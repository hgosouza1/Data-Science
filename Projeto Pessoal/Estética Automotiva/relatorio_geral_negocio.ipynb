{
 "cells": [
  {
   "cell_type": "markdown",
   "id": "fc9f40fa",
   "metadata": {},
   "source": [
    "# Análise do Negócio\n",
    "- O objetivo desse projeto é analisar todas os resultados e informações de uma empresa focada em estética automotiva.\n",
    "\n",
    "- Os dados foram coletados a partir do sistema CRM que foi implementado recentemente.\n",
    "\n",
    "- A quantidade de dados ainda é baixa, mas já é possível realizar análises poderosas e observar as suas tendências.\n",
    "#### *A utilização de todos os dados relacionados à este relatório foram autorizadas com antecedência pelos proprietários."
   ]
  },
  {
   "cell_type": "markdown",
   "id": "48a4ce7a",
   "metadata": {},
   "source": [
    "## Importando as Bibliotecas"
   ]
  },
  {
   "cell_type": "code",
   "execution_count": 35,
   "id": "637e1b02",
   "metadata": {},
   "outputs": [],
   "source": [
    "import pandas as pd\n",
    "import seaborn as srn\n",
    "import matplotlib.pyplot as plt\n",
    "import numpy as np\n",
    "from matplotlib.ticker import FuncFormatter\n",
    "from statistics import mean\n",
    "from datetime import date"
   ]
  },
  {
   "cell_type": "markdown",
   "id": "d476a9c1",
   "metadata": {},
   "source": [
    "## Importando os Dados"
   ]
  },
  {
   "cell_type": "code",
   "execution_count": 128,
   "id": "b63a216e",
   "metadata": {},
   "outputs": [
    {
     "data": {
      "text/html": [
       "<div>\n",
       "<style scoped>\n",
       "    .dataframe tbody tr th:only-of-type {\n",
       "        vertical-align: middle;\n",
       "    }\n",
       "\n",
       "    .dataframe tbody tr th {\n",
       "        vertical-align: top;\n",
       "    }\n",
       "\n",
       "    .dataframe thead th {\n",
       "        text-align: right;\n",
       "    }\n",
       "</style>\n",
       "<table border=\"1\" class=\"dataframe\">\n",
       "  <thead>\n",
       "    <tr style=\"text-align: right;\">\n",
       "      <th></th>\n",
       "      <th>ID</th>\n",
       "      <th>nome</th>\n",
       "      <th>responsavel</th>\n",
       "      <th>origem</th>\n",
       "      <th>temperatura</th>\n",
       "      <th>situacao</th>\n",
       "      <th>dtatendimento</th>\n",
       "      <th>dtfechamento</th>\n",
       "      <th>categoria</th>\n",
       "      <th>restauracao</th>\n",
       "      <th>...</th>\n",
       "      <th>polimento</th>\n",
       "      <th>vitrificacao</th>\n",
       "      <th>lavagemmotor</th>\n",
       "      <th>tratamentovidros</th>\n",
       "      <th>protecaopintura</th>\n",
       "      <th>lavagemdetalhada</th>\n",
       "      <th>lavagemmoto</th>\n",
       "      <th>outros</th>\n",
       "      <th>descontos</th>\n",
       "      <th>total</th>\n",
       "    </tr>\n",
       "  </thead>\n",
       "  <tbody>\n",
       "    <tr>\n",
       "      <th>0</th>\n",
       "      <td>345zYB2RStaeNDSoFPrKCQ</td>\n",
       "      <td>Tintin</td>\n",
       "      <td>Victor</td>\n",
       "      <td>Outros</td>\n",
       "      <td>Quente</td>\n",
       "      <td>FECHADO</td>\n",
       "      <td>2022-07-20 10:48:31</td>\n",
       "      <td>2022-07-20 14:46:05</td>\n",
       "      <td>Pequeno</td>\n",
       "      <td>NaN</td>\n",
       "      <td>...</td>\n",
       "      <td>NaN</td>\n",
       "      <td>NaN</td>\n",
       "      <td>50.0</td>\n",
       "      <td>NaN</td>\n",
       "      <td>NaN</td>\n",
       "      <td>NaN</td>\n",
       "      <td>NaN</td>\n",
       "      <td>NaN</td>\n",
       "      <td>10.0</td>\n",
       "      <td>90.0</td>\n",
       "    </tr>\n",
       "    <tr>\n",
       "      <th>1</th>\n",
       "      <td>kodJrgZQQbOYocrI4wEXug</td>\n",
       "      <td>Victor Luiz</td>\n",
       "      <td>Victor</td>\n",
       "      <td>Outros</td>\n",
       "      <td>Quente</td>\n",
       "      <td>FECHADO</td>\n",
       "      <td>2022-07-20 11:09:29</td>\n",
       "      <td>2022-07-29 14:47:14</td>\n",
       "      <td>Médio</td>\n",
       "      <td>NaN</td>\n",
       "      <td>...</td>\n",
       "      <td>NaN</td>\n",
       "      <td>NaN</td>\n",
       "      <td>NaN</td>\n",
       "      <td>NaN</td>\n",
       "      <td>NaN</td>\n",
       "      <td>NaN</td>\n",
       "      <td>NaN</td>\n",
       "      <td>NaN</td>\n",
       "      <td>NaN</td>\n",
       "      <td>70.0</td>\n",
       "    </tr>\n",
       "    <tr>\n",
       "      <th>2</th>\n",
       "      <td>9XlS0WWDTQ6xUnyp3EcXyg</td>\n",
       "      <td>Wesley</td>\n",
       "      <td>Victor</td>\n",
       "      <td>Indicação</td>\n",
       "      <td>Quente</td>\n",
       "      <td>FECHADO</td>\n",
       "      <td>2022-07-21 12:39:29</td>\n",
       "      <td>2022-07-21 13:50:40</td>\n",
       "      <td>Médio</td>\n",
       "      <td>NaN</td>\n",
       "      <td>...</td>\n",
       "      <td>NaN</td>\n",
       "      <td>NaN</td>\n",
       "      <td>NaN</td>\n",
       "      <td>NaN</td>\n",
       "      <td>NaN</td>\n",
       "      <td>NaN</td>\n",
       "      <td>NaN</td>\n",
       "      <td>NaN</td>\n",
       "      <td>30.0</td>\n",
       "      <td>40.0</td>\n",
       "    </tr>\n",
       "    <tr>\n",
       "      <th>3</th>\n",
       "      <td>a-ihIurH5Q9ipdAPzY3AeBw</td>\n",
       "      <td>Diogo</td>\n",
       "      <td>Victor</td>\n",
       "      <td>Outros</td>\n",
       "      <td>Quente</td>\n",
       "      <td>FECHADO</td>\n",
       "      <td>2022-07-21 13:50:48</td>\n",
       "      <td>2022-07-21 17:52:51</td>\n",
       "      <td>Pequeno</td>\n",
       "      <td>NaN</td>\n",
       "      <td>...</td>\n",
       "      <td>NaN</td>\n",
       "      <td>NaN</td>\n",
       "      <td>NaN</td>\n",
       "      <td>NaN</td>\n",
       "      <td>NaN</td>\n",
       "      <td>NaN</td>\n",
       "      <td>NaN</td>\n",
       "      <td>NaN</td>\n",
       "      <td>10.0</td>\n",
       "      <td>40.0</td>\n",
       "    </tr>\n",
       "    <tr>\n",
       "      <th>4</th>\n",
       "      <td>EnbNzP.8Qs-K3r-gQI3IOQ</td>\n",
       "      <td>Rubem Borges</td>\n",
       "      <td>Victor</td>\n",
       "      <td>Outros</td>\n",
       "      <td>Quente</td>\n",
       "      <td>FECHADO</td>\n",
       "      <td>2022-07-21 13:51:48</td>\n",
       "      <td>2022-07-21 17:52:59</td>\n",
       "      <td>Médio</td>\n",
       "      <td>NaN</td>\n",
       "      <td>...</td>\n",
       "      <td>NaN</td>\n",
       "      <td>NaN</td>\n",
       "      <td>NaN</td>\n",
       "      <td>NaN</td>\n",
       "      <td>NaN</td>\n",
       "      <td>NaN</td>\n",
       "      <td>NaN</td>\n",
       "      <td>NaN</td>\n",
       "      <td>NaN</td>\n",
       "      <td>70.0</td>\n",
       "    </tr>\n",
       "  </tbody>\n",
       "</table>\n",
       "<p>5 rows × 22 columns</p>\n",
       "</div>"
      ],
      "text/plain": [
       "                        ID           nome responsavel     origem temperatura  \\\n",
       "0   345zYB2RStaeNDSoFPrKCQ        Tintin       Victor     Outros      Quente   \n",
       "1   kodJrgZQQbOYocrI4wEXug   Victor Luiz       Victor     Outros      Quente   \n",
       "2   9XlS0WWDTQ6xUnyp3EcXyg         Wesley      Victor  Indicação      Quente   \n",
       "3  a-ihIurH5Q9ipdAPzY3AeBw         Diogo       Victor     Outros      Quente   \n",
       "4   EnbNzP.8Qs-K3r-gQI3IOQ  Rubem Borges       Victor     Outros      Quente   \n",
       "\n",
       "  situacao       dtatendimento        dtfechamento categoria  restauracao  \\\n",
       "0  FECHADO 2022-07-20 10:48:31 2022-07-20 14:46:05   Pequeno          NaN   \n",
       "1  FECHADO 2022-07-20 11:09:29 2022-07-29 14:47:14     Médio          NaN   \n",
       "2  FECHADO 2022-07-21 12:39:29 2022-07-21 13:50:40     Médio          NaN   \n",
       "3  FECHADO 2022-07-21 13:50:48 2022-07-21 17:52:51   Pequeno          NaN   \n",
       "4  FECHADO 2022-07-21 13:51:48 2022-07-21 17:52:59     Médio          NaN   \n",
       "\n",
       "   ...  polimento  vitrificacao  lavagemmotor  tratamentovidros  \\\n",
       "0  ...        NaN           NaN          50.0               NaN   \n",
       "1  ...        NaN           NaN           NaN               NaN   \n",
       "2  ...        NaN           NaN           NaN               NaN   \n",
       "3  ...        NaN           NaN           NaN               NaN   \n",
       "4  ...        NaN           NaN           NaN               NaN   \n",
       "\n",
       "   protecaopintura  lavagemdetalhada  lavagemmoto  outros  descontos  total  \n",
       "0              NaN               NaN          NaN     NaN       10.0   90.0  \n",
       "1              NaN               NaN          NaN     NaN        NaN   70.0  \n",
       "2              NaN               NaN          NaN     NaN       30.0   40.0  \n",
       "3              NaN               NaN          NaN     NaN       10.0   40.0  \n",
       "4              NaN               NaN          NaN     NaN        NaN   70.0  \n",
       "\n",
       "[5 rows x 22 columns]"
      ]
     },
     "execution_count": 128,
     "metadata": {},
     "output_type": "execute_result"
    }
   ],
   "source": [
    "dados = pd.read_csv(\"estetica_automotiva.csv\", \n",
    "          sep = \",\", \n",
    "          parse_dates = [\"dtatendimento\", \"dtfechamento\"], \n",
    "          dayfirst = True)\n",
    "\n",
    "#Visulizando\n",
    "dados.head()"
   ]
  },
  {
   "cell_type": "markdown",
   "id": "491c66fc",
   "metadata": {},
   "source": [
    "# Tratando Valores Nulos"
   ]
  },
  {
   "cell_type": "code",
   "execution_count": 125,
   "id": "34276969",
   "metadata": {},
   "outputs": [
    {
     "data": {
      "text/plain": [
       "ID                  0\n",
       "nome                0\n",
       "responsavel         0\n",
       "origem              0\n",
       "temperatura         0\n",
       "situacao            0\n",
       "dtatendimento       0\n",
       "dtfechamento        0\n",
       "categoria           0\n",
       "restauracao         0\n",
       "higienizacao        0\n",
       "lavagem             0\n",
       "polimento           0\n",
       "vitrificacao        0\n",
       "lavagemmotor        0\n",
       "tratamentovidros    0\n",
       "protecaopintura     0\n",
       "lavagemdetalhada    0\n",
       "lavagemmoto         0\n",
       "outros              0\n",
       "descontos           0\n",
       "total               0\n",
       "dtype: int64"
      ]
     },
     "execution_count": 125,
     "metadata": {},
     "output_type": "execute_result"
    }
   ],
   "source": [
    "dados.fillna(0, inplace = True)\n",
    "dados.isnull().sum()"
   ]
  },
  {
   "cell_type": "markdown",
   "id": "d6f2a6fc",
   "metadata": {},
   "source": [
    "## Tamanho dos Dados"
   ]
  },
  {
   "cell_type": "code",
   "execution_count": 119,
   "id": "a79368aa",
   "metadata": {},
   "outputs": [
    {
     "data": {
      "text/plain": [
       "(73, 22)"
      ]
     },
     "execution_count": 119,
     "metadata": {},
     "output_type": "execute_result"
    }
   ],
   "source": [
    "dados.shape\n",
    "# Nº de Linhas e Colunas"
   ]
  },
  {
   "cell_type": "markdown",
   "id": "f1b9b59c",
   "metadata": {},
   "source": [
    "## Verificando os Tipos de Dados"
   ]
  },
  {
   "cell_type": "code",
   "execution_count": 5,
   "id": "62b3c855",
   "metadata": {},
   "outputs": [
    {
     "name": "stdout",
     "output_type": "stream",
     "text": [
      "<class 'pandas.core.frame.DataFrame'>\n",
      "RangeIndex: 73 entries, 0 to 72\n",
      "Data columns (total 22 columns):\n",
      " #   Column            Non-Null Count  Dtype         \n",
      "---  ------            --------------  -----         \n",
      " 0   ID                73 non-null     object        \n",
      " 1   nome              73 non-null     object        \n",
      " 2   responsavel       73 non-null     object        \n",
      " 3   origem            73 non-null     object        \n",
      " 4   temperatura       73 non-null     object        \n",
      " 5   situacao          73 non-null     object        \n",
      " 6   dtatendimento     73 non-null     datetime64[ns]\n",
      " 7   dtfechamento      65 non-null     datetime64[ns]\n",
      " 8   categoria         73 non-null     object        \n",
      " 9   restauracao       1 non-null      float64       \n",
      " 10  higienizacao      4 non-null      float64       \n",
      " 11  lavagem           61 non-null     float64       \n",
      " 12  polimento         3 non-null      float64       \n",
      " 13  vitrificacao      0 non-null      float64       \n",
      " 14  lavagemmotor      2 non-null      float64       \n",
      " 15  tratamentovidros  0 non-null      float64       \n",
      " 16  protecaopintura   0 non-null      float64       \n",
      " 17  lavagemdetalhada  1 non-null      float64       \n",
      " 18  lavagemmoto       0 non-null      float64       \n",
      " 19  outros            4 non-null      float64       \n",
      " 20  descontos         7 non-null      float64       \n",
      " 21  total             71 non-null     float64       \n",
      "dtypes: datetime64[ns](2), float64(13), object(7)\n",
      "memory usage: 12.7+ KB\n"
     ]
    }
   ],
   "source": [
    "dados.info()"
   ]
  },
  {
   "cell_type": "markdown",
   "id": "c2ed2dba",
   "metadata": {},
   "source": [
    "# Dados Categóricos"
   ]
  },
  {
   "cell_type": "code",
   "execution_count": 6,
   "id": "d7bee271",
   "metadata": {},
   "outputs": [
    {
     "data": {
      "text/plain": [
       "origem\n",
       "Indicação     13\n",
       "Instagram      2\n",
       "Luminoso       5\n",
       "Outros        35\n",
       "Recorrente    18\n",
       "dtype: int64"
      ]
     },
     "execution_count": 6,
     "metadata": {},
     "output_type": "execute_result"
    }
   ],
   "source": [
    "# Origem\n",
    "origem = dados.groupby(['origem']).size()\n",
    "origem"
   ]
  },
  {
   "cell_type": "code",
   "execution_count": 7,
   "id": "b446f9c8",
   "metadata": {},
   "outputs": [
    {
     "data": {
      "text/plain": [
       "temperatura\n",
       "Morno      5\n",
       "Quente    68\n",
       "dtype: int64"
      ]
     },
     "execution_count": 7,
     "metadata": {},
     "output_type": "execute_result"
    }
   ],
   "source": [
    "# Temperatura\n",
    "temperatura = dados.groupby(['temperatura']).size()\n",
    "temperatura"
   ]
  },
  {
   "cell_type": "code",
   "execution_count": 8,
   "id": "c22b9e47",
   "metadata": {},
   "outputs": [
    {
     "data": {
      "text/plain": [
       "situacao\n",
       "EM ABERTO     8\n",
       "FECHADO      65\n",
       "dtype: int64"
      ]
     },
     "execution_count": 8,
     "metadata": {},
     "output_type": "execute_result"
    }
   ],
   "source": [
    "# Situação\n",
    "situacao = dados.groupby(['situacao']).size()\n",
    "situacao"
   ]
  },
  {
   "cell_type": "code",
   "execution_count": 9,
   "id": "792605ff",
   "metadata": {},
   "outputs": [
    {
     "data": {
      "text/plain": [
       "responsavel\n",
       "Gabriel    30\n",
       "Victor     43\n",
       "dtype: int64"
      ]
     },
     "execution_count": 9,
     "metadata": {},
     "output_type": "execute_result"
    }
   ],
   "source": [
    "# Responsável\n",
    "responsavel = dados.groupby(['responsavel']).size()\n",
    "responsavel"
   ]
  },
  {
   "cell_type": "markdown",
   "id": "26d3d124",
   "metadata": {},
   "source": [
    "# Key Perfomance Indicator (KPI's)"
   ]
  },
  {
   "cell_type": "markdown",
   "id": "e3c839c3",
   "metadata": {},
   "source": [
    "## Origem dos Leads\n",
    "Quais são os canais mais utilizados pelos Leads até chegarem a marca?"
   ]
  },
  {
   "cell_type": "code",
   "execution_count": 36,
   "id": "693b1bf1",
   "metadata": {},
   "outputs": [
    {
     "data": {
      "text/plain": [
       "Text(0, 0.5, 'Quantidade')"
      ]
     },
     "execution_count": 36,
     "metadata": {},
     "output_type": "execute_result"
    },
    {
     "data": {
      "image/png": "[encoded data removed]",
      "text/plain": [
       "<Figure size 432x288 with 1 Axes>"
      ]
     },
     "metadata": {
      "needs_background": "light"
     },
     "output_type": "display_data"
    }
   ],
   "source": [
    "#Agrupando as origens\n",
    "origem = dados.groupby(['origem']).size()\n",
    "\n",
    "#Ordenando os dados em ordem crescente\n",
    "origem = origem.sort_values()\n",
    "\n",
    "#Função para adicionar rótulos de valor\n",
    "def labelorigem(x,y):\n",
    "    for i in range(len(x)):\n",
    "        plt.text(i, y[i], y[i], ha = 'center')\n",
    "        \n",
    "x = origem\n",
    "y = origem\n",
    "\n",
    "#Gerando o gráfico e alterando as cores\n",
    "grafico = origem.plot.bar(color=['red', 'orange', 'blue', 'green', 'purple'])\n",
    "\n",
    "#Títulos e nome dos eixos\n",
    "labelorigem(x, y)\n",
    "plt.title('Quantidade de Leads por Origem')\n",
    "plt.xlabel('Origem')\n",
    "plt.ylabel('Quantidade')"
   ]
  },
  {
   "cell_type": "markdown",
   "id": "d584cb82",
   "metadata": {},
   "source": [
    "#### Resultado:\n",
    "\n",
    "Devido a grande quantidade de Leads com a origem \"Outros\", podemos observar o seguinte:\n",
    "\n",
    "- Existem um grande volume de Leads em possíveis canais não mapeados.\n",
    "- E/Ou, essa informação não está sendo obtida como deveria no momento da atendimento.\n",
    "    \n",
    "Com a falta de clareza dessa informação, podemos concluir que os novos esforços deveriam ser direcionados à identificação desses canais e na realização de treinamentos à equipe de vendas para reforçar a importância da origem dos clientes na tomada de decisões."
   ]
  },
  {
   "cell_type": "markdown",
   "id": "2c3d43fb",
   "metadata": {},
   "source": [
    "## Conversão por Origem\n",
    "Quais canais possuem uma maior taxa de conversão?"
   ]
  },
  {
   "cell_type": "code",
   "execution_count": 100,
   "id": "63c28a10",
   "metadata": {},
   "outputs": [
    {
     "data": {
      "text/plain": [
       "Text(0, 0.5, 'Taxa de Conversão')"
      ]
     },
     "execution_count": 100,
     "metadata": {},
     "output_type": "execute_result"
    },
    {
     "data": {
      "image/png": "[encoded data removed]",
      "text/plain": [
       "<Figure size 432x288 with 1 Axes>"
      ]
     },
     "metadata": {
      "needs_background": "light"
     },
     "output_type": "display_data"
    }
   ],
   "source": [
    "#Calculando a taxa de conversão por origem\n",
    "taxa = ((dados.situacao == \"FECHADO\").sum() and dados.groupby(['origem']).size())/dados.ID.count()\n",
    "\n",
    "#Ordenando os dados em ordem crescente\n",
    "taxa = taxa.sort_values()\n",
    "\n",
    "#Arredondando a taxa\n",
    "taxa = round(taxa * 100, 2)\n",
    "\n",
    "#Função para adicionar os rótulos de valor\n",
    "def labeltaxa(x,y):\n",
    "    for i in range(len(x)):\n",
    "        plt.text(i, y[i], y[i], ha = 'center')\n",
    "        \n",
    "x = taxa\n",
    "y = taxa\n",
    "\n",
    "#Gerando o gráfico e alterando as cores\n",
    "grafico = taxa.plot.bar(color=['red', 'orange', 'blue', 'green', 'purple'])\n",
    "\n",
    "#Títulos e nome dos eixos\n",
    "labeltaxa(x,y)\n",
    "plt.title('Quantidade de Leads e Conversão por Origem')\n",
    "plt.xlabel('Origem')\n",
    "plt.ylabel('Taxa de Conversão')"
   ]
  },
  {
   "cell_type": "markdown",
   "id": "f21a88c5",
   "metadata": {},
   "source": [
    "## Temperatura dos Leads\n",
    "Qual o nível de interesse dos Leads pelos serviços prestados?\n",
    "\n",
    "*Legenda:*\n",
    "- Frio: Pouco Interessado\n",
    "- Morno: Interesse Médio\n",
    "- Quente: Muito Interessado"
   ]
  },
  {
   "cell_type": "code",
   "execution_count": 64,
   "id": "6df1a2b0",
   "metadata": {},
   "outputs": [
    {
     "data": {
      "text/plain": [
       "Text(0, 0.5, 'Quantidade')"
      ]
     },
     "execution_count": 64,
     "metadata": {},
     "output_type": "execute_result"
    },
    {
     "data": {
      "image/png": "[encoded data removed]",
      "text/plain": [
       "<Figure size 432x288 with 1 Axes>"
      ]
     },
     "metadata": {
      "needs_background": "light"
     },
     "output_type": "display_data"
    }
   ],
   "source": [
    "#Agrupando as temperaturas\n",
    "temperatura = dados.groupby(['temperatura']).size()\n",
    "\n",
    "#Ordenando os dados em ordem crescente\n",
    "temperatura = temperatura.sort_values()\n",
    "\n",
    "#Função para adicionar os rótulos de valor\n",
    "def labeltemperatura(x,y):\n",
    "    for i in range(len(x)):\n",
    "        plt.text(i, y[i], y[i], ha = 'center')\n",
    "        \n",
    "x = temperatura\n",
    "y = temperatura\n",
    "\n",
    "#Gerando o gráfico e alterando as cores\n",
    "grafico = temperatura.plot.bar(color=['yellow', 'red'])\n",
    "\n",
    "#Títulos e nome dos eixos\n",
    "labeltemperatura(x, y)\n",
    "plt.title('Quantidade de Leads por Temperatura')\n",
    "plt.xlabel('Temperatura')\n",
    "plt.ylabel('Quantidade')"
   ]
  },
  {
   "cell_type": "markdown",
   "id": "caa948f7",
   "metadata": {},
   "source": [
    "Todos os Leads foram classificados como \"Quentes\". Isso pode ser positivo a partir de uma boa taxa de conversão, ou, novamente os vendedores não estão conseguindo obter e registrar as informações como deveriam."
   ]
  },
  {
   "cell_type": "markdown",
   "id": "caf7a546",
   "metadata": {},
   "source": [
    "## Fechamentos\n",
    "Quantidade de Leads que fecharam ou não algum tipo de serviço."
   ]
  },
  {
   "cell_type": "code",
   "execution_count": 73,
   "id": "b8a16468",
   "metadata": {},
   "outputs": [
    {
     "data": {
      "text/plain": [
       "Text(0, 0.5, 'Quantidade')"
      ]
     },
     "execution_count": 73,
     "metadata": {},
     "output_type": "execute_result"
    },
    {
     "data": {
      "image/png": "[encoded data removed]",
      "text/plain": [
       "<Figure size 432x288 with 1 Axes>"
      ]
     },
     "metadata": {
      "needs_background": "light"
     },
     "output_type": "display_data"
    }
   ],
   "source": [
    "#Agrupando as situações\n",
    "situacao = dados.groupby(['situacao']).size()\n",
    "\n",
    "#Ordenando os dados em ordem crescente\n",
    "situacao = situacao.sort_values()\n",
    "\n",
    "#Função para adicionar os rótulos de valor\n",
    "def labelsituacao(x,y):\n",
    "    for i in range(len(x)):\n",
    "        plt.text(i, y[i], y[i], ha = 'center')\n",
    "        \n",
    "x = situacao\n",
    "y = situacao\n",
    "\n",
    "#Gerando o gráfico e alterando as cores\n",
    "grafico = situacao.plot.bar(color=['blue', 'green'])\n",
    "\n",
    "#Títulos e nome dos eixos\n",
    "labelsituacao(x, y)\n",
    "plt.title('Situação dos Atendimentos')\n",
    "plt.xlabel('Situações')\n",
    "plt.ylabel('Quantidade')"
   ]
  },
  {
   "cell_type": "markdown",
   "id": "cb5cb184",
   "metadata": {},
   "source": [
    "Existe um volume muito maior de clientes que adquiriram algum tipo de serviço em relação a quantidade de atendimentos, isso pode representar uma ótima taxa de conversão."
   ]
  },
  {
   "cell_type": "markdown",
   "id": "13c87dd5",
   "metadata": {},
   "source": [
    "## Taxa de Conversão\n",
    "\n",
    "Percentual de fechamentos sobre a quantidade de atendimentos."
   ]
  },
  {
   "cell_type": "code",
   "execution_count": 14,
   "id": "e890a5d2",
   "metadata": {},
   "outputs": [
    {
     "data": {
      "text/plain": [
       "'Taxa de Conversão: 89.04%'"
      ]
     },
     "execution_count": 14,
     "metadata": {},
     "output_type": "execute_result"
    }
   ],
   "source": [
    "#Calculando a taxa de conversão\n",
    "taxa = ((dados.situacao == \"FECHADO\").sum()/dados.ID.count())\n",
    "\n",
    "#Formatando e imprimindo o resultado\n",
    "f'Taxa de Conversão: {taxa:.2%}'"
   ]
  },
  {
   "cell_type": "markdown",
   "id": "b2575681",
   "metadata": {},
   "source": [
    "Confirmando o resultado do gráfico anterior, podemos ter o entendimento que a empresa está conseguindo fechar com quase todos os seus clientes, realmente uma ótima taxa de conversão."
   ]
  },
  {
   "cell_type": "markdown",
   "id": "51908f94",
   "metadata": {},
   "source": [
    "## Faturamento por Mês\n",
    "Qual o faturamento bruto gerado por mês?"
   ]
  },
  {
   "cell_type": "code",
   "execution_count": 101,
   "id": "f0b9707b",
   "metadata": {},
   "outputs": [
    {
     "data": {
      "text/plain": [
       "Text(0, 0.5, 'Total')"
      ]
     },
     "execution_count": 101,
     "metadata": {},
     "output_type": "execute_result"
    },
    {
     "data": {
      "image/png": "[encoded data removed]",
      "text/plain": [
       "<Figure size 432x288 with 1 Axes>"
      ]
     },
     "metadata": {
      "needs_background": "light"
     },
     "output_type": "display_data"
    }
   ],
   "source": [
    "#Somando o faturamento por mês\n",
    "faturamento = dados.groupby(dados['dtfechamento'].dt.strftime('%B'))['total'].sum().sort_values()\n",
    "\n",
    "#Função para adicionar os rótulos de valor\n",
    "def labelfaturamento(x,y):\n",
    "    for i in range(len(x)):\n",
    "        plt.text(i, y[i], y[i], ha = 'center')\n",
    "        \n",
    "x = faturamento\n",
    "y = faturamento\n",
    "\n",
    "#Gerando o gráfico e alterando as cores\n",
    "grafico = faturamento.plot.bar(color=['blue', 'green'])\n",
    "\n",
    "#Títulos e nome dos eixos\n",
    "labelfaturamento(x, y)\n",
    "plt.title('Faturamento por Mês')\n",
    "plt.xlabel('Mês')\n",
    "plt.ylabel('Total')"
   ]
  },
  {
   "cell_type": "markdown",
   "id": "8d69feb8",
   "metadata": {},
   "source": [
    "## Ticket Médio"
   ]
  },
  {
   "cell_type": "markdown",
   "id": "cbaa2e78",
   "metadata": {},
   "source": [
    "Valor médio que cada cliente “gasta” em serviços."
   ]
  },
  {
   "cell_type": "code",
   "execution_count": 74,
   "id": "85754a4c",
   "metadata": {},
   "outputs": [
    {
     "data": {
      "text/plain": [
       "'Ticket Médio de: R$ 79.31'"
      ]
     },
     "execution_count": 74,
     "metadata": {},
     "output_type": "execute_result"
    }
   ],
   "source": [
    "#Calculando o ticket médio\n",
    "ticket = ((dados.situacao == \"FECHADO\").sum() and (dados.total).sum()/(dados.situacao == \"FECHADO\").sum())\n",
    "\n",
    "#Formatando e imprimindo o resultado\n",
    "f'Ticket Médio de: R$ {ticket:,.2f}'"
   ]
  },
  {
   "cell_type": "markdown",
   "id": "b385296a",
   "metadata": {},
   "source": [
    "## Lifetime Value (LTV)"
   ]
  },
  {
   "cell_type": "markdown",
   "id": "b9144e1f",
   "metadata": {},
   "source": [
    "Qual o lucro que cada cliente gera para empresa ao longo de sua vida?\n",
    "\n",
    "LTV = Ticket médio das vendas X Número de compras do cliente ao longo do tempo"
   ]
  },
  {
   "cell_type": "code",
   "execution_count": 17,
   "id": "03a822a5",
   "metadata": {},
   "outputs": [
    {
     "data": {
      "text/plain": [
       "'Lifetime Value de: R$ 107.21'"
      ]
     },
     "execution_count": 17,
     "metadata": {},
     "output_type": "execute_result"
    }
   ],
   "source": [
    "#Calculando o ticket médio\n",
    "ticket = ((dados.situacao == \"FECHADO\").sum() and (dados.total).sum()/(dados.situacao == \"FECHADO\").sum())\n",
    "\n",
    "#Extraíndo a média de transações\n",
    "media = mean(dados.groupby(['nome']).size())\n",
    "\n",
    "#Calculando o LTV\n",
    "ltv = ticket * media\n",
    "\n",
    "f'Lifetime Value de: R$ {ltv:,.2f}'"
   ]
  },
  {
   "cell_type": "markdown",
   "id": "96b1f9a5",
   "metadata": {},
   "source": [
    "## Tempo Médio para Fechamento"
   ]
  },
  {
   "cell_type": "markdown",
   "id": "523351e1",
   "metadata": {},
   "source": [
    "Quanto tempo em média a empresa precisa para converter uma oportunidade em venda? "
   ]
  },
  {
   "cell_type": "code",
   "execution_count": 129,
   "id": "73352073",
   "metadata": {},
   "outputs": [
    {
     "data": {
      "text/plain": [
       "0     0.0\n",
       "1     9.0\n",
       "2     0.0\n",
       "3     0.0\n",
       "4     0.0\n",
       "     ... \n",
       "68    NaN\n",
       "69    0.0\n",
       "70    0.0\n",
       "71    0.0\n",
       "72    NaN\n",
       "Length: 73, dtype: float64"
      ]
     },
     "execution_count": 129,
     "metadata": {},
     "output_type": "execute_result"
    }
   ],
   "source": [
    "date1 = dados.dtatendimento\n",
    "date2 = dados.dtfechamento\n",
    "\n",
    "difdate = date2 - date1\n",
    "\n",
    "days = difdate.dt.days\n",
    "days"
   ]
  },
  {
   "cell_type": "code",
   "execution_count": null,
   "id": "6ed9b84d",
   "metadata": {},
   "outputs": [],
   "source": []
  }
 ],
 "metadata": {
  "kernelspec": {
   "display_name": "Python 3 (ipykernel)",
   "language": "python",
   "name": "python3"
  },
  "language_info": {
   "codemirror_mode": {
    "name": "ipython",
    "version": 3
   },
   "file_extension": ".py",
   "mimetype": "text/x-python",
   "name": "python",
   "nbconvert_exporter": "python",
   "pygments_lexer": "ipython3",
   "version": "3.9.12"
  }
 },
 "nbformat": 4,
 "nbformat_minor": 5
}
