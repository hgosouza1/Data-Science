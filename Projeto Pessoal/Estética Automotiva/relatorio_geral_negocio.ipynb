{
 "cells": [
  {
   "cell_type": "markdown",
   "id": "fc9f40fa",
   "metadata": {},
   "source": [
    "# Análise do Negócio\n",
    "- O objetivo desse projeto é analisar todas os resultados e informações de uma empresa de estética automotiva.\n",
    "- Empresa esta, de tamanho médio e presente no mercado a poucos meses.\n",
    "- Os dados foram coletados a partir do sistema CRM.\n",
    "\n",
    "- A quantidade de dados ainda é baixa, mas já é possível realizar análises poderosas e observar as suas tendências.\n",
    "#### *A utilização de todos os dados relacionados à este relatório foram autorizadas previamente pelos responsáveis."
   ]
  },
  {
   "cell_type": "markdown",
   "id": "48a4ce7a",
   "metadata": {},
   "source": [
    "## Importando as Bibliotecas"
   ]
  },
  {
   "cell_type": "code",
   "execution_count": 1,
   "id": "637e1b02",
   "metadata": {},
   "outputs": [],
   "source": [
    "import pandas as pd\n",
    "import seaborn as srn\n",
    "import matplotlib.pyplot as plt\n",
    "import numpy as np\n",
    "from matplotlib.ticker import FuncFormatter\n",
    "from statistics import mean\n",
    "from datetime import date"
   ]
  },
  {
   "cell_type": "markdown",
   "id": "d476a9c1",
   "metadata": {},
   "source": [
    "## Importando os Dados"
   ]
  },
  {
   "cell_type": "code",
   "execution_count": 2,
   "id": "b63a216e",
   "metadata": {},
   "outputs": [
    {
     "data": {
      "text/html": [
       "<div>\n",
       "<style scoped>\n",
       "    .dataframe tbody tr th:only-of-type {\n",
       "        vertical-align: middle;\n",
       "    }\n",
       "\n",
       "    .dataframe tbody tr th {\n",
       "        vertical-align: top;\n",
       "    }\n",
       "\n",
       "    .dataframe thead th {\n",
       "        text-align: right;\n",
       "    }\n",
       "</style>\n",
       "<table border=\"1\" class=\"dataframe\">\n",
       "  <thead>\n",
       "    <tr style=\"text-align: right;\">\n",
       "      <th></th>\n",
       "      <th>ID</th>\n",
       "      <th>nome</th>\n",
       "      <th>responsavel</th>\n",
       "      <th>origem</th>\n",
       "      <th>temperatura</th>\n",
       "      <th>situacao</th>\n",
       "      <th>dtatendimento</th>\n",
       "      <th>dtfechamento</th>\n",
       "      <th>categoria</th>\n",
       "      <th>restauracao</th>\n",
       "      <th>...</th>\n",
       "      <th>polimento</th>\n",
       "      <th>vitrificacao</th>\n",
       "      <th>lavagem_motor</th>\n",
       "      <th>tratamento_vidros</th>\n",
       "      <th>protecao_pintura</th>\n",
       "      <th>outros</th>\n",
       "      <th>lavagem_detalhada</th>\n",
       "      <th>lavagem_moto</th>\n",
       "      <th>desconto</th>\n",
       "      <th>total</th>\n",
       "    </tr>\n",
       "  </thead>\n",
       "  <tbody>\n",
       "    <tr>\n",
       "      <th>0</th>\n",
       "      <td>345zYB2RStaeNDSoFPrKCQ</td>\n",
       "      <td>Tintin</td>\n",
       "      <td>Victor</td>\n",
       "      <td>Outros</td>\n",
       "      <td>Quente</td>\n",
       "      <td>FECHADO</td>\n",
       "      <td>2022-07-20 10:48:31</td>\n",
       "      <td>2022-07-20 14:46:05</td>\n",
       "      <td>Pequeno</td>\n",
       "      <td>NaN</td>\n",
       "      <td>...</td>\n",
       "      <td>NaN</td>\n",
       "      <td>NaN</td>\n",
       "      <td>50.0</td>\n",
       "      <td>NaN</td>\n",
       "      <td>NaN</td>\n",
       "      <td>NaN</td>\n",
       "      <td>NaN</td>\n",
       "      <td>NaN</td>\n",
       "      <td>10.0</td>\n",
       "      <td>90.0</td>\n",
       "    </tr>\n",
       "    <tr>\n",
       "      <th>1</th>\n",
       "      <td>kodJrgZQQbOYocrI4wEXug</td>\n",
       "      <td>Victor Luiz</td>\n",
       "      <td>Victor</td>\n",
       "      <td>Outros</td>\n",
       "      <td>Quente</td>\n",
       "      <td>FECHADO</td>\n",
       "      <td>2022-07-20 11:09:29</td>\n",
       "      <td>2022-07-29 14:47:14</td>\n",
       "      <td>Médio</td>\n",
       "      <td>NaN</td>\n",
       "      <td>...</td>\n",
       "      <td>NaN</td>\n",
       "      <td>NaN</td>\n",
       "      <td>NaN</td>\n",
       "      <td>NaN</td>\n",
       "      <td>NaN</td>\n",
       "      <td>NaN</td>\n",
       "      <td>NaN</td>\n",
       "      <td>NaN</td>\n",
       "      <td>NaN</td>\n",
       "      <td>70.0</td>\n",
       "    </tr>\n",
       "    <tr>\n",
       "      <th>2</th>\n",
       "      <td>9XlS0WWDTQ6xUnyp3EcXyg</td>\n",
       "      <td>Wesley</td>\n",
       "      <td>Victor</td>\n",
       "      <td>Indicação</td>\n",
       "      <td>Quente</td>\n",
       "      <td>FECHADO</td>\n",
       "      <td>2022-07-21 12:39:29</td>\n",
       "      <td>2022-07-21 13:50:40</td>\n",
       "      <td>Médio</td>\n",
       "      <td>NaN</td>\n",
       "      <td>...</td>\n",
       "      <td>NaN</td>\n",
       "      <td>NaN</td>\n",
       "      <td>NaN</td>\n",
       "      <td>NaN</td>\n",
       "      <td>NaN</td>\n",
       "      <td>NaN</td>\n",
       "      <td>NaN</td>\n",
       "      <td>NaN</td>\n",
       "      <td>30.0</td>\n",
       "      <td>40.0</td>\n",
       "    </tr>\n",
       "    <tr>\n",
       "      <th>3</th>\n",
       "      <td>a-ihIurH5Q9ipdAPzY3AeBw</td>\n",
       "      <td>Diogo</td>\n",
       "      <td>Victor</td>\n",
       "      <td>Outros</td>\n",
       "      <td>Quente</td>\n",
       "      <td>FECHADO</td>\n",
       "      <td>2022-07-21 13:50:48</td>\n",
       "      <td>2022-07-21 17:52:51</td>\n",
       "      <td>Pequeno</td>\n",
       "      <td>NaN</td>\n",
       "      <td>...</td>\n",
       "      <td>NaN</td>\n",
       "      <td>NaN</td>\n",
       "      <td>NaN</td>\n",
       "      <td>NaN</td>\n",
       "      <td>NaN</td>\n",
       "      <td>NaN</td>\n",
       "      <td>NaN</td>\n",
       "      <td>NaN</td>\n",
       "      <td>10.0</td>\n",
       "      <td>40.0</td>\n",
       "    </tr>\n",
       "    <tr>\n",
       "      <th>4</th>\n",
       "      <td>EnbNzP.8Qs-K3r-gQI3IOQ</td>\n",
       "      <td>Rubem Borges</td>\n",
       "      <td>Victor</td>\n",
       "      <td>Outros</td>\n",
       "      <td>Quente</td>\n",
       "      <td>FECHADO</td>\n",
       "      <td>2022-07-21 13:51:48</td>\n",
       "      <td>2022-07-21 17:52:59</td>\n",
       "      <td>Médio</td>\n",
       "      <td>NaN</td>\n",
       "      <td>...</td>\n",
       "      <td>NaN</td>\n",
       "      <td>NaN</td>\n",
       "      <td>NaN</td>\n",
       "      <td>NaN</td>\n",
       "      <td>NaN</td>\n",
       "      <td>NaN</td>\n",
       "      <td>NaN</td>\n",
       "      <td>NaN</td>\n",
       "      <td>NaN</td>\n",
       "      <td>70.0</td>\n",
       "    </tr>\n",
       "  </tbody>\n",
       "</table>\n",
       "<p>5 rows × 22 columns</p>\n",
       "</div>"
      ],
      "text/plain": [
       "                        ID           nome responsavel     origem temperatura  \\\n",
       "0   345zYB2RStaeNDSoFPrKCQ        Tintin       Victor     Outros      Quente   \n",
       "1   kodJrgZQQbOYocrI4wEXug   Victor Luiz       Victor     Outros      Quente   \n",
       "2   9XlS0WWDTQ6xUnyp3EcXyg         Wesley      Victor  Indicação      Quente   \n",
       "3  a-ihIurH5Q9ipdAPzY3AeBw         Diogo       Victor     Outros      Quente   \n",
       "4   EnbNzP.8Qs-K3r-gQI3IOQ  Rubem Borges       Victor     Outros      Quente   \n",
       "\n",
       "  situacao       dtatendimento        dtfechamento categoria  restauracao  \\\n",
       "0  FECHADO 2022-07-20 10:48:31 2022-07-20 14:46:05   Pequeno          NaN   \n",
       "1  FECHADO 2022-07-20 11:09:29 2022-07-29 14:47:14     Médio          NaN   \n",
       "2  FECHADO 2022-07-21 12:39:29 2022-07-21 13:50:40     Médio          NaN   \n",
       "3  FECHADO 2022-07-21 13:50:48 2022-07-21 17:52:51   Pequeno          NaN   \n",
       "4  FECHADO 2022-07-21 13:51:48 2022-07-21 17:52:59     Médio          NaN   \n",
       "\n",
       "   ...  polimento  vitrificacao  lavagem_motor  tratamento_vidros  \\\n",
       "0  ...        NaN           NaN           50.0                NaN   \n",
       "1  ...        NaN           NaN            NaN                NaN   \n",
       "2  ...        NaN           NaN            NaN                NaN   \n",
       "3  ...        NaN           NaN            NaN                NaN   \n",
       "4  ...        NaN           NaN            NaN                NaN   \n",
       "\n",
       "   protecao_pintura  outros  lavagem_detalhada  lavagem_moto  desconto  total  \n",
       "0               NaN     NaN                NaN           NaN      10.0   90.0  \n",
       "1               NaN     NaN                NaN           NaN       NaN   70.0  \n",
       "2               NaN     NaN                NaN           NaN      30.0   40.0  \n",
       "3               NaN     NaN                NaN           NaN      10.0   40.0  \n",
       "4               NaN     NaN                NaN           NaN       NaN   70.0  \n",
       "\n",
       "[5 rows x 22 columns]"
      ]
     },
     "execution_count": 2,
     "metadata": {},
     "output_type": "execute_result"
    }
   ],
   "source": [
    "dados = pd.read_csv(\"estetica_automotiva.csv\", \n",
    "          sep = \",\", \n",
    "          parse_dates = [\"dtatendimento\", \"dtfechamento\"], \n",
    "          dayfirst = False)\n",
    "\n",
    "#Visulizando\n",
    "dados.head()"
   ]
  },
  {
   "cell_type": "markdown",
   "id": "491c66fc",
   "metadata": {},
   "source": [
    "# Tratando Valores Nulos"
   ]
  },
  {
   "cell_type": "code",
   "execution_count": 30,
   "id": "34276969",
   "metadata": {},
   "outputs": [
    {
     "data": {
      "text/plain": [
       "ID                  0\n",
       "nome                0\n",
       "responsavel         0\n",
       "origem              0\n",
       "temperatura         0\n",
       "situacao            0\n",
       "dtatendimento       0\n",
       "dtfechamento        0\n",
       "categoria           0\n",
       "restauracao         0\n",
       "higienizacao        0\n",
       "lavagem             0\n",
       "polimento           0\n",
       "vitrificacao        0\n",
       "lavagemmotor        0\n",
       "tratamentovidros    0\n",
       "protecaopintura     0\n",
       "lavagemdetalhada    0\n",
       "lavagemmoto         0\n",
       "outros              0\n",
       "descontos           0\n",
       "total               0\n",
       "dtype: int64"
      ]
     },
     "execution_count": 30,
     "metadata": {},
     "output_type": "execute_result"
    }
   ],
   "source": [
    "dados.fillna(0, inplace = True)\n",
    "dados.isnull().sum()"
   ]
  },
  {
   "cell_type": "markdown",
   "id": "d6f2a6fc",
   "metadata": {},
   "source": [
    "## Tamanho dos Dados"
   ]
  },
  {
   "cell_type": "code",
   "execution_count": 119,
   "id": "a79368aa",
   "metadata": {},
   "outputs": [
    {
     "data": {
      "text/plain": [
       "(73, 22)"
      ]
     },
     "execution_count": 119,
     "metadata": {},
     "output_type": "execute_result"
    }
   ],
   "source": [
    "dados.shape\n",
    "# Nº de Linhas e Colunas"
   ]
  },
  {
   "cell_type": "markdown",
   "id": "f1b9b59c",
   "metadata": {},
   "source": [
    "## Verificando os Tipos de Dados"
   ]
  },
  {
   "cell_type": "code",
   "execution_count": 57,
   "id": "62b3c855",
   "metadata": {},
   "outputs": [
    {
     "name": "stdout",
     "output_type": "stream",
     "text": [
      "<class 'pandas.core.frame.DataFrame'>\n",
      "RangeIndex: 80 entries, 0 to 79\n",
      "Data columns (total 22 columns):\n",
      " #   Column             Non-Null Count  Dtype         \n",
      "---  ------             --------------  -----         \n",
      " 0   ID                 80 non-null     object        \n",
      " 1   nome               80 non-null     object        \n",
      " 2   responsavel        80 non-null     object        \n",
      " 3   origem             80 non-null     object        \n",
      " 4   temperatura        80 non-null     object        \n",
      " 5   situacao           80 non-null     object        \n",
      " 6   dtatendimento      80 non-null     datetime64[ns]\n",
      " 7   dtfechamento       70 non-null     datetime64[ns]\n",
      " 8   categoria          80 non-null     object        \n",
      " 9   restauracao        4 non-null      float64       \n",
      " 10  higienizacao       6 non-null      float64       \n",
      " 11  lavagem            66 non-null     float64       \n",
      " 12  polimento          3 non-null      float64       \n",
      " 13  vitrificacao       0 non-null      float64       \n",
      " 14  lavagem_motor      3 non-null      float64       \n",
      " 15  tratamento_vidros  0 non-null      float64       \n",
      " 16  protecao_pintura   0 non-null      float64       \n",
      " 17  outros             4 non-null      float64       \n",
      " 18  lavagem_detalhada  2 non-null      float64       \n",
      " 19  lavagem_moto       0 non-null      float64       \n",
      " 20  desconto           7 non-null      float64       \n",
      " 21  total              77 non-null     float64       \n",
      "dtypes: datetime64[ns](2), float64(13), object(7)\n",
      "memory usage: 13.9+ KB\n"
     ]
    }
   ],
   "source": [
    "dados.info()"
   ]
  },
  {
   "cell_type": "markdown",
   "id": "c2ed2dba",
   "metadata": {},
   "source": [
    "# Dados Categóricos"
   ]
  },
  {
   "cell_type": "code",
   "execution_count": 6,
   "id": "d7bee271",
   "metadata": {},
   "outputs": [
    {
     "data": {
      "text/plain": [
       "origem\n",
       "Indicação     13\n",
       "Instagram      2\n",
       "Luminoso       5\n",
       "Outros        35\n",
       "Recorrente    18\n",
       "dtype: int64"
      ]
     },
     "execution_count": 6,
     "metadata": {},
     "output_type": "execute_result"
    }
   ],
   "source": [
    "# Origem\n",
    "origem = dados.groupby(['origem']).size()\n",
    "origem"
   ]
  },
  {
   "cell_type": "code",
   "execution_count": 7,
   "id": "b446f9c8",
   "metadata": {},
   "outputs": [
    {
     "data": {
      "text/plain": [
       "temperatura\n",
       "Morno      5\n",
       "Quente    68\n",
       "dtype: int64"
      ]
     },
     "execution_count": 7,
     "metadata": {},
     "output_type": "execute_result"
    }
   ],
   "source": [
    "# Temperatura\n",
    "temperatura = dados.groupby(['temperatura']).size()\n",
    "temperatura"
   ]
  },
  {
   "cell_type": "code",
   "execution_count": 8,
   "id": "c22b9e47",
   "metadata": {},
   "outputs": [
    {
     "data": {
      "text/plain": [
       "situacao\n",
       "EM ABERTO     8\n",
       "FECHADO      65\n",
       "dtype: int64"
      ]
     },
     "execution_count": 8,
     "metadata": {},
     "output_type": "execute_result"
    }
   ],
   "source": [
    "# Situação\n",
    "situacao = dados.groupby(['situacao']).size()\n",
    "situacao"
   ]
  },
  {
   "cell_type": "code",
   "execution_count": 58,
   "id": "792605ff",
   "metadata": {},
   "outputs": [
    {
     "data": {
      "text/plain": [
       "responsavel\n",
       "Gabriel    31\n",
       "Victor     49\n",
       "dtype: int64"
      ]
     },
     "execution_count": 58,
     "metadata": {},
     "output_type": "execute_result"
    }
   ],
   "source": [
    "# Responsável\n",
    "responsavel = dados.groupby(['responsavel']).size()\n",
    "responsavel"
   ]
  },
  {
   "cell_type": "markdown",
   "id": "26d3d124",
   "metadata": {},
   "source": [
    "# Key Perfomance Indicator (KPI's)"
   ]
  },
  {
   "cell_type": "markdown",
   "id": "aaa3ee72",
   "metadata": {},
   "source": [
    "## Atendimentos por Mês\n",
    "Quantos atendimentos são realizados por mês?"
   ]
  },
  {
   "cell_type": "code",
   "execution_count": 56,
   "id": "15dceea6",
   "metadata": {},
   "outputs": [
    {
     "data": {
      "text/plain": [
       "Text(0, 0.5, 'Total')"
      ]
     },
     "execution_count": 56,
     "metadata": {},
     "output_type": "execute_result"
    },
    {
     "data": {
      "image/png": "[encoded data removed]",
      "text/plain": [
       "<Figure size 432x288 with 1 Axes>"
      ]
     },
     "metadata": {
      "needs_background": "light"
     },
     "output_type": "display_data"
    }
   ],
   "source": [
    "#Contando os atendimentos por mês\n",
    "atendimento = dados.groupby((dados['dtatendimento']).dt.strftime('%B'), sort=False)['ID'].count()\n",
    "\n",
    "#Função para adicionar os rótulos de valor\n",
    "def labelatendimento(x,y):\n",
    "    for i in range(len(x)):\n",
    "        plt.text(i, y[i], y[i], ha = 'left')\n",
    "        \n",
    "x = atendimento\n",
    "y = atendimento\n",
    "\n",
    "#Gerando o gráfico e alterando as cores\n",
    "grafico = atendimento.plot(color=['green'])\n",
    "\n",
    "#Títulos e nome dos eixos\n",
    "labelatendimento(x, y)\n",
    "plt.title('Atendimentos por Mês')\n",
    "plt.xlabel('Mês')\n",
    "plt.ylabel('Total')"
   ]
  },
  {
   "cell_type": "markdown",
   "id": "df44ebd6",
   "metadata": {},
   "source": [
    "Após o primeiro mês de implantação do CRM, podemos observar que houve um aumento significativo na quantidade de atendimentos de Agosto em relação ao mês de Julho.\n",
    "\n",
    "Podemos analisar ainda, que são realizados em média 2 atendimentos por dia, isso pode representar um cenário positivo ou negativo a partir da análise do gestor."
   ]
  },
  {
   "cell_type": "markdown",
   "id": "689a9e59",
   "metadata": {},
   "source": [
    "## Taxa de Conversão\n",
    "Qual a taxa de conversão média?"
   ]
  },
  {
   "cell_type": "code",
   "execution_count": 49,
   "id": "82c55eb1",
   "metadata": {},
   "outputs": [
    {
     "data": {
      "text/plain": [
       "'Taxa de Conversão: 86.25%'"
      ]
     },
     "execution_count": 49,
     "metadata": {},
     "output_type": "execute_result"
    }
   ],
   "source": [
    "#Calculando a taxa de conversão\n",
    "taxa = ((dados.situacao == \"FECHADO\").sum()/dados.ID.count())\n",
    "\n",
    "#Formatando e imprimindo o resultado\n",
    "f'Taxa de Conversão: {taxa:.2%}'"
   ]
  },
  {
   "cell_type": "markdown",
   "id": "e13ae30e",
   "metadata": {},
   "source": [
    "Com esse número, podemos concluir que a cada 10 clientes que chegam até a loja, 9 fecham algum tipo de serviço."
   ]
  },
  {
   "cell_type": "markdown",
   "id": "e694a9d9",
   "metadata": {},
   "source": [
    "## Taxa de Conversão Individual\n",
    "E a taxa de conversão por colaborador?"
   ]
  },
  {
   "cell_type": "code",
   "execution_count": 87,
   "id": "197dd140",
   "metadata": {},
   "outputs": [
    {
     "data": {
      "text/plain": [
       "Text(0, 0.5, 'Percentual')"
      ]
     },
     "execution_count": 87,
     "metadata": {},
     "output_type": "execute_result"
    },
    {
     "data": {
      "image/png": "[encoded data removed]",
      "text/plain": [
       "<Figure size 432x288 with 1 Axes>"
      ]
     },
     "metadata": {
      "needs_background": "light"
     },
     "output_type": "display_data"
    }
   ],
   "source": [
    "#Atendimentos por colaborador\n",
    "individual = dados.groupby(['responsavel']).size()\n",
    "\n",
    "#Calculando a taxa de conversão\n",
    "taxa = (dados.situacao == \"FECHADO\").sum() and dados.groupby(['responsavel']).size()/dados.ID.count()\n",
    "\n",
    "#Função para adicionar os rótulos de valor\n",
    "def labelindividual(x1,y1):\n",
    "    for i in range(len(x)):\n",
    "        plt.text(i, y[i], y[i], ha = 'center')\n",
    "        \n",
    "x1 = individual\n",
    "y1 = individual\n",
    "x2 = taxa\n",
    "y2 = taxa\n",
    "\n",
    "#Gerando o gráfico e alterando as cores\n",
    "grafico = plt.plot(x1, y1, x2, y2)\n",
    "\n",
    "#Títulos e nome dos eixos\n",
    "labelindividual(x1,y1)\n",
    "plt.title('Taxa de Conversão Individual')\n",
    "plt.xlabel('Colaborador')\n",
    "plt.ylabel('Percentual')"
   ]
  },
  {
   "cell_type": "markdown",
   "id": "71774558",
   "metadata": {},
   "source": [
    "O colaborador Victor consegue ter um melhor aproveitamento sobre seus atendimentos, no entanto é importante revisar as quantidades de atendimentos, pois a falta de cadastro influcia diretamente na taxa de conversão."
   ]
  },
  {
   "cell_type": "markdown",
   "id": "20eaee94",
   "metadata": {},
   "source": [
    "## Faturamento por Mês\n",
    "Qual o faturamento bruto gerado por mês?"
   ]
  },
  {
   "cell_type": "code",
   "execution_count": 101,
   "id": "688434ca",
   "metadata": {},
   "outputs": [
    {
     "data": {
      "text/plain": [
       "Text(0, 0.5, 'Total')"
      ]
     },
     "execution_count": 101,
     "metadata": {},
     "output_type": "execute_result"
    },
    {
     "data": {
      "image/png": "[encoded data removed]",
      "text/plain": [
       "<Figure size 432x288 with 1 Axes>"
      ]
     },
     "metadata": {
      "needs_background": "light"
     },
     "output_type": "display_data"
    }
   ],
   "source": [
    "#Somando o faturamento por mês\n",
    "faturamento = dados.groupby(dados['dtfechamento'].dt.strftime('%B'))['total'].sum().sort_values()\n",
    "\n",
    "#Função para adicionar os rótulos de valor\n",
    "def labelfaturamento(x,y):\n",
    "    for i in range(len(x)):\n",
    "        plt.text(i, y[i], y[i], ha = 'center')\n",
    "        \n",
    "x = faturamento\n",
    "y = faturamento\n",
    "\n",
    "#Gerando o gráfico e alterando as cores\n",
    "grafico = faturamento.plot.bar(color=['blue', 'green'])\n",
    "\n",
    "#Títulos e nome dos eixos\n",
    "labelfaturamento(x, y)\n",
    "plt.title('Faturamento por Mês')\n",
    "plt.xlabel('Mês')\n",
    "plt.ylabel('Total')"
   ]
  },
  {
   "cell_type": "markdown",
   "id": "c8e55089",
   "metadata": {},
   "source": [
    "## Faturamento por Serviço\n",
    "Qual o faturamento total por serviço?"
   ]
  },
  {
   "cell_type": "code",
   "execution_count": null,
   "id": "2fa043f0",
   "metadata": {},
   "outputs": [],
   "source": []
  },
  {
   "cell_type": "markdown",
   "id": "73585a4c",
   "metadata": {},
   "source": [
    "## Ticket Médio\n",
    "Qual o ticket médio da loja?"
   ]
  },
  {
   "cell_type": "code",
   "execution_count": 74,
   "id": "ebc2a7b4",
   "metadata": {},
   "outputs": [
    {
     "data": {
      "text/plain": [
       "'Ticket Médio de: R$ 79.31'"
      ]
     },
     "execution_count": 74,
     "metadata": {},
     "output_type": "execute_result"
    }
   ],
   "source": [
    "#Calculando o ticket médio\n",
    "ticket = ((dados.situacao == \"FECHADO\").sum() and (dados.total).sum()/(dados.situacao == \"FECHADO\").sum())\n",
    "\n",
    "#Formatando e imprimindo o resultado\n",
    "f'Ticket Médio de: R$ {ticket:,.2f}'"
   ]
  },
  {
   "cell_type": "markdown",
   "id": "c96d915a",
   "metadata": {},
   "source": [
    "## Tempo Médio para Venda\n",
    "Quanto tempo em média a empresa leva para converter um lead desde o registro do atendimento? "
   ]
  },
  {
   "cell_type": "code",
   "execution_count": 33,
   "id": "17b25efa",
   "metadata": {},
   "outputs": [
    {
     "data": {
      "text/plain": [
       "'1 dia(s) em média'"
      ]
     },
     "execution_count": 33,
     "metadata": {},
     "output_type": "execute_result"
    }
   ],
   "source": [
    "#Substraíndo a diferencia de dias entre a data do atendimento até o fechamento\n",
    "difdate = dados.dtfechamento - dados.dtatendimento\n",
    "\n",
    "#Extraíndo apenas os dias do resultado\n",
    "days = difdate.dt.days\n",
    "\n",
    "#Desconsiderando os valores NaN dos cálculos\n",
    "days = days.mean(skipna=True)\n",
    "\n",
    "f'{days:,.0f} dia(s) em média'"
   ]
  },
  {
   "cell_type": "markdown",
   "id": "911898ca",
   "metadata": {},
   "source": [
    "## Recorrência"
   ]
  },
  {
   "cell_type": "code",
   "execution_count": 43,
   "id": "56045f50",
   "metadata": {},
   "outputs": [
    {
     "data": {
      "text/plain": [
       "'Retorno de: 1.35'"
      ]
     },
     "execution_count": 43,
     "metadata": {},
     "output_type": "execute_result"
    }
   ],
   "source": [
    "#Extraíndo a recorrência\n",
    "media = mean((dados.situacao == \"FECHADO\").sum() and dados.groupby(['nome']).size())\n",
    "\n",
    "f'Retorno de: {media:,.2f}'"
   ]
  },
  {
   "cell_type": "markdown",
   "id": "b65bff2b",
   "metadata": {},
   "source": [
    "## Lifetime Value (LTV)\n",
    "Qual o lucro que cada cliente gera para empresa ao longo de sua vida?\n",
    "\n",
    "LTV = Ticket médio das vendas X Número de compras do cliente ao longo do tempo"
   ]
  },
  {
   "cell_type": "code",
   "execution_count": 39,
   "id": "1cc3e76f",
   "metadata": {},
   "outputs": [
    {
     "data": {
      "text/plain": [
       "'Média de: R$ 107.21'"
      ]
     },
     "execution_count": 39,
     "metadata": {},
     "output_type": "execute_result"
    }
   ],
   "source": [
    "#Calculando o ticket médio\n",
    "ticket = ((dados.situacao == \"FECHADO\").sum() and (dados.total).sum()/(dados.situacao == \"FECHADO\").sum())\n",
    "\n",
    "#Extraíndo a recorrência\n",
    "media = mean((dados.situacao == \"FECHADO\").sum() and dados.groupby(['nome']).size())\n",
    "\n",
    "#Calculando o LTV\n",
    "ltv = ticket * media\n",
    "\n",
    "f'Média de: R$ {ltv:,.2f}'"
   ]
  },
  {
   "cell_type": "markdown",
   "id": "e5d597d1",
   "metadata": {},
   "source": [
    "## Temperatura dos Leads\n",
    "Qual o nível de interesse dos Leads pelos serviços prestados?\n",
    "\n",
    "*Legenda:*\n",
    "- Frio: Pouco Interessado\n",
    "- Morno: Interesse Médio\n",
    "- Quente: Muito Interessado"
   ]
  },
  {
   "cell_type": "code",
   "execution_count": 64,
   "id": "ea2488f3",
   "metadata": {},
   "outputs": [
    {
     "data": {
      "text/plain": [
       "Text(0, 0.5, 'Quantidade')"
      ]
     },
     "execution_count": 64,
     "metadata": {},
     "output_type": "execute_result"
    },
    {
     "data": {
      "image/png": "[encoded data removed]",
      "text/plain": [
       "<Figure size 432x288 with 1 Axes>"
      ]
     },
     "metadata": {
      "needs_background": "light"
     },
     "output_type": "display_data"
    }
   ],
   "source": [
    "#Agrupando as temperaturas\n",
    "temperatura = dados.groupby(['temperatura']).size()\n",
    "\n",
    "#Ordenando os dados em ordem crescente\n",
    "temperatura = temperatura.sort_values()\n",
    "\n",
    "#Função para adicionar os rótulos de valor\n",
    "def labeltemperatura(x,y):\n",
    "    for i in range(len(x)):\n",
    "        plt.text(i, y[i], y[i], ha = 'center')\n",
    "        \n",
    "x = temperatura\n",
    "y = temperatura\n",
    "\n",
    "#Gerando o gráfico e alterando as cores\n",
    "grafico = temperatura.plot.bar(color=['yellow', 'red'])\n",
    "\n",
    "#Títulos e nome dos eixos\n",
    "labeltemperatura(x, y)\n",
    "plt.title('Quantidade de Leads por Temperatura')\n",
    "plt.xlabel('Temperatura')\n",
    "plt.ylabel('Quantidade')"
   ]
  },
  {
   "cell_type": "markdown",
   "id": "980f1356",
   "metadata": {},
   "source": [
    "A grande parte dos Leads foram classificados como \"Quentes\", justificando a ótima taxa de conversão."
   ]
  },
  {
   "cell_type": "markdown",
   "id": "e3c839c3",
   "metadata": {},
   "source": [
    "## Origem dos Leads\n",
    "Quais são os canais mais utilizados pelos Leads até chegarem a loja?"
   ]
  },
  {
   "cell_type": "code",
   "execution_count": 36,
   "id": "693b1bf1",
   "metadata": {},
   "outputs": [
    {
     "data": {
      "text/plain": [
       "Text(0, 0.5, 'Quantidade')"
      ]
     },
     "execution_count": 36,
     "metadata": {},
     "output_type": "execute_result"
    },
    {
     "data": {
      "image/png": "[encoded data removed]",
      "text/plain": [
       "<Figure size 432x288 with 1 Axes>"
      ]
     },
     "metadata": {
      "needs_background": "light"
     },
     "output_type": "display_data"
    }
   ],
   "source": [
    "#Agrupando as origens\n",
    "origem = dados.groupby(['origem']).size()\n",
    "\n",
    "#Ordenando os dados em ordem crescente\n",
    "origem = origem.sort_values()\n",
    "\n",
    "#Função para adicionar rótulos de valor\n",
    "def labelorigem(x,y):\n",
    "    for i in range(len(x)):\n",
    "        plt.text(i, y[i], y[i], ha = 'center')\n",
    "        \n",
    "x = origem\n",
    "y = origem\n",
    "\n",
    "#Gerando o gráfico e alterando as cores\n",
    "grafico = origem.plot.bar(color=['red', 'orange', 'blue', 'green', 'purple'])\n",
    "\n",
    "#Títulos e nome dos eixos\n",
    "labelorigem(x, y)\n",
    "plt.title('Quantidade de Leads por Origem')\n",
    "plt.xlabel('Origem')\n",
    "plt.ylabel('Quantidade')"
   ]
  },
  {
   "cell_type": "markdown",
   "id": "d584cb82",
   "metadata": {},
   "source": [
    "#### Resultado:\n",
    "\n",
    "Devido a grande quantidade de Leads com a origem \"Outros\", podemos observar o seguinte:\n",
    "\n",
    "- Existem um grande volume de Leads em possíveis canais não mapeados.\n",
    "- E/Ou, essa informação não está sendo obtida como deveria no momento da atendimento.\n",
    "    \n",
    "Com a falta de clareza dessa informação, podemos concluir que os novos esforços deveriam ser direcionados à identificação desses canais e na realização de treinamentos à equipe de vendas para reforçar a importância da origem dos clientes na tomada de decisões."
   ]
  },
  {
   "cell_type": "markdown",
   "id": "2c3d43fb",
   "metadata": {},
   "source": [
    "## Conversão por Origem\n",
    "Quais canais possuem uma maior taxa de conversão?"
   ]
  },
  {
   "cell_type": "code",
   "execution_count": 100,
   "id": "63c28a10",
   "metadata": {},
   "outputs": [
    {
     "data": {
      "text/plain": [
       "Text(0, 0.5, 'Taxa de Conversão')"
      ]
     },
     "execution_count": 100,
     "metadata": {},
     "output_type": "execute_result"
    },
    {
     "data": {
      "image/png": "[encoded data removed]",
      "text/plain": [
       "<Figure size 432x288 with 1 Axes>"
      ]
     },
     "metadata": {
      "needs_background": "light"
     },
     "output_type": "display_data"
    }
   ],
   "source": [
    "#Calculando a taxa de conversão por origem\n",
    "taxa = ((dados.situacao == \"FECHADO\").sum() and dados.groupby(['origem']).size())/dados.ID.count()\n",
    "\n",
    "#Ordenando os dados em ordem crescente\n",
    "taxa = taxa.sort_values()\n",
    "\n",
    "#Arredondando a taxa\n",
    "taxa = round(taxa * 100, 2)\n",
    "\n",
    "#Função para adicionar os rótulos de valor\n",
    "def labeltaxa(x,y):\n",
    "    for i in range(len(x)):\n",
    "        plt.text(i, y[i], y[i], ha = 'center')\n",
    "        \n",
    "x = taxa\n",
    "y = taxa\n",
    "\n",
    "#Gerando o gráfico e alterando as cores\n",
    "grafico = taxa.plot.bar(color=['red', 'orange', 'blue', 'green', 'purple'])\n",
    "\n",
    "#Títulos e nome dos eixos\n",
    "labeltaxa(x,y)\n",
    "plt.title('Quantidade de Leads e Conversão por Origem')\n",
    "plt.xlabel('Origem')\n",
    "plt.ylabel('Taxa de Conversão')"
   ]
  },
  {
   "cell_type": "markdown",
   "id": "cf2ac1e3",
   "metadata": {},
   "source": [
    "## Conclusão\n",
    "O negócio anda bem, porém precisa de um acompanhamento mais incisivo do gestor para garantir que a cultura dos dados sejam enraízada, tornando a análise mais assertiva, itensificando o poder de decisão."
   ]
  },
  {
   "cell_type": "code",
   "execution_count": null,
   "id": "f519c404",
   "metadata": {},
   "outputs": [],
   "source": []
  }
 ],
 "metadata": {
  "kernelspec": {
   "display_name": "Python 3 (ipykernel)",
   "language": "python",
   "name": "python3"
  },
  "language_info": {
   "codemirror_mode": {
    "name": "ipython",
    "version": 3
   },
   "file_extension": ".py",
   "mimetype": "text/x-python",
   "name": "python",
   "nbconvert_exporter": "python",
   "pygments_lexer": "ipython3",
   "version": "3.9.12"
  }
 },
 "nbformat": 4,
 "nbformat_minor": 5
}
