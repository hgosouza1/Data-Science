{
 "cells": [
  {
   "cell_type": "markdown",
   "id": "fc9f40fa",
   "metadata": {},
   "source": [
    "# Análise do Negócio\n",
    "- O objetivo desse projeto é analisar todas os resultados e informações de uma empresa focada em estética automotiva.\n",
    "\n",
    "- Os dados foram coletados a partir do sistema CRM que foi implementado recentemente.\n",
    "\n",
    "- A quantidade de dados ainda é baixa, mas já é possível realizar análises poderosas e observar as tendências.\n",
    "#### *A utilização dos dados foi autorizada pelos responsáveis."
   ]
  },
  {
   "cell_type": "markdown",
   "id": "48a4ce7a",
   "metadata": {},
   "source": [
    "## Importando as Bibliotecas"
   ]
  },
  {
   "cell_type": "code",
   "execution_count": 1,
   "id": "637e1b02",
   "metadata": {},
   "outputs": [],
   "source": [
    "import pandas as pd\n",
    "import seaborn as srn\n",
    "import matplotlib.pyplot as plt\n",
    "import numpy as np\n",
    "from matplotlib.ticker import FuncFormatter"
   ]
  },
  {
   "cell_type": "markdown",
   "id": "d476a9c1",
   "metadata": {},
   "source": [
    "## Importando os Dados"
   ]
  },
  {
   "cell_type": "code",
   "execution_count": 2,
   "id": "b63a216e",
   "metadata": {},
   "outputs": [
    {
     "data": {
      "text/html": [
       "<div>\n",
       "<style scoped>\n",
       "    .dataframe tbody tr th:only-of-type {\n",
       "        vertical-align: middle;\n",
       "    }\n",
       "\n",
       "    .dataframe tbody tr th {\n",
       "        vertical-align: top;\n",
       "    }\n",
       "\n",
       "    .dataframe thead th {\n",
       "        text-align: right;\n",
       "    }\n",
       "</style>\n",
       "<table border=\"1\" class=\"dataframe\">\n",
       "  <thead>\n",
       "    <tr style=\"text-align: right;\">\n",
       "      <th></th>\n",
       "      <th>ID</th>\n",
       "      <th>nome</th>\n",
       "      <th>responsavel</th>\n",
       "      <th>origem</th>\n",
       "      <th>temperatura</th>\n",
       "      <th>situacao</th>\n",
       "      <th>dtatendimento</th>\n",
       "      <th>dtfechamento</th>\n",
       "      <th>categoria</th>\n",
       "      <th>restauracao</th>\n",
       "      <th>...</th>\n",
       "      <th>polimento</th>\n",
       "      <th>vitrificacao</th>\n",
       "      <th>lavagemmotor</th>\n",
       "      <th>tratamentovidros</th>\n",
       "      <th>protecaopintura</th>\n",
       "      <th>lavagemdetalhada</th>\n",
       "      <th>lavagemmoto</th>\n",
       "      <th>outros</th>\n",
       "      <th>descontos</th>\n",
       "      <th>total</th>\n",
       "    </tr>\n",
       "  </thead>\n",
       "  <tbody>\n",
       "    <tr>\n",
       "      <th>0</th>\n",
       "      <td>345zYB2RStaeNDSoFPrKCQ</td>\n",
       "      <td>Tintin</td>\n",
       "      <td>Victor</td>\n",
       "      <td>Outros</td>\n",
       "      <td>Quente</td>\n",
       "      <td>FECHADO</td>\n",
       "      <td>2022-07-20 10:48:31</td>\n",
       "      <td>2022-07-20 14:46:05</td>\n",
       "      <td>Pequeno</td>\n",
       "      <td>NaN</td>\n",
       "      <td>...</td>\n",
       "      <td>NaN</td>\n",
       "      <td>NaN</td>\n",
       "      <td>50.0</td>\n",
       "      <td>NaN</td>\n",
       "      <td>NaN</td>\n",
       "      <td>NaN</td>\n",
       "      <td>NaN</td>\n",
       "      <td>NaN</td>\n",
       "      <td>10.0</td>\n",
       "      <td>90.0</td>\n",
       "    </tr>\n",
       "    <tr>\n",
       "      <th>1</th>\n",
       "      <td>kodJrgZQQbOYocrI4wEXug</td>\n",
       "      <td>Victor Luiz</td>\n",
       "      <td>Victor</td>\n",
       "      <td>Outros</td>\n",
       "      <td>Quente</td>\n",
       "      <td>FECHADO</td>\n",
       "      <td>2022-07-20 11:09:29</td>\n",
       "      <td>2022-07-29 14:47:14</td>\n",
       "      <td>Médio</td>\n",
       "      <td>NaN</td>\n",
       "      <td>...</td>\n",
       "      <td>NaN</td>\n",
       "      <td>NaN</td>\n",
       "      <td>NaN</td>\n",
       "      <td>NaN</td>\n",
       "      <td>NaN</td>\n",
       "      <td>NaN</td>\n",
       "      <td>NaN</td>\n",
       "      <td>NaN</td>\n",
       "      <td>NaN</td>\n",
       "      <td>70.0</td>\n",
       "    </tr>\n",
       "    <tr>\n",
       "      <th>2</th>\n",
       "      <td>9XlS0WWDTQ6xUnyp3EcXyg</td>\n",
       "      <td>Wesley</td>\n",
       "      <td>Victor</td>\n",
       "      <td>Indicação</td>\n",
       "      <td>Quente</td>\n",
       "      <td>FECHADO</td>\n",
       "      <td>2022-07-21 12:39:29</td>\n",
       "      <td>2022-07-21 13:50:40</td>\n",
       "      <td>Médio</td>\n",
       "      <td>NaN</td>\n",
       "      <td>...</td>\n",
       "      <td>NaN</td>\n",
       "      <td>NaN</td>\n",
       "      <td>NaN</td>\n",
       "      <td>NaN</td>\n",
       "      <td>NaN</td>\n",
       "      <td>NaN</td>\n",
       "      <td>NaN</td>\n",
       "      <td>NaN</td>\n",
       "      <td>30.0</td>\n",
       "      <td>40.0</td>\n",
       "    </tr>\n",
       "    <tr>\n",
       "      <th>3</th>\n",
       "      <td>a-ihIurH5Q9ipdAPzY3AeBw</td>\n",
       "      <td>Diogo</td>\n",
       "      <td>Victor</td>\n",
       "      <td>Outros</td>\n",
       "      <td>Quente</td>\n",
       "      <td>FECHADO</td>\n",
       "      <td>2022-07-21 13:50:48</td>\n",
       "      <td>2022-07-21 17:52:51</td>\n",
       "      <td>Pequeno</td>\n",
       "      <td>NaN</td>\n",
       "      <td>...</td>\n",
       "      <td>NaN</td>\n",
       "      <td>NaN</td>\n",
       "      <td>NaN</td>\n",
       "      <td>NaN</td>\n",
       "      <td>NaN</td>\n",
       "      <td>NaN</td>\n",
       "      <td>NaN</td>\n",
       "      <td>NaN</td>\n",
       "      <td>10.0</td>\n",
       "      <td>40.0</td>\n",
       "    </tr>\n",
       "    <tr>\n",
       "      <th>4</th>\n",
       "      <td>EnbNzP.8Qs-K3r-gQI3IOQ</td>\n",
       "      <td>Rubem Borges</td>\n",
       "      <td>Victor</td>\n",
       "      <td>Outros</td>\n",
       "      <td>Quente</td>\n",
       "      <td>FECHADO</td>\n",
       "      <td>2022-07-21 13:51:48</td>\n",
       "      <td>2022-07-21 17:52:59</td>\n",
       "      <td>Médio</td>\n",
       "      <td>NaN</td>\n",
       "      <td>...</td>\n",
       "      <td>NaN</td>\n",
       "      <td>NaN</td>\n",
       "      <td>NaN</td>\n",
       "      <td>NaN</td>\n",
       "      <td>NaN</td>\n",
       "      <td>NaN</td>\n",
       "      <td>NaN</td>\n",
       "      <td>NaN</td>\n",
       "      <td>NaN</td>\n",
       "      <td>70.0</td>\n",
       "    </tr>\n",
       "  </tbody>\n",
       "</table>\n",
       "<p>5 rows × 22 columns</p>\n",
       "</div>"
      ],
      "text/plain": [
       "                        ID           nome responsavel     origem temperatura  \\\n",
       "0   345zYB2RStaeNDSoFPrKCQ        Tintin       Victor     Outros      Quente   \n",
       "1   kodJrgZQQbOYocrI4wEXug   Victor Luiz       Victor     Outros      Quente   \n",
       "2   9XlS0WWDTQ6xUnyp3EcXyg         Wesley      Victor  Indicação      Quente   \n",
       "3  a-ihIurH5Q9ipdAPzY3AeBw         Diogo       Victor     Outros      Quente   \n",
       "4   EnbNzP.8Qs-K3r-gQI3IOQ  Rubem Borges       Victor     Outros      Quente   \n",
       "\n",
       "  situacao       dtatendimento        dtfechamento categoria  restauracao  \\\n",
       "0  FECHADO 2022-07-20 10:48:31 2022-07-20 14:46:05   Pequeno          NaN   \n",
       "1  FECHADO 2022-07-20 11:09:29 2022-07-29 14:47:14     Médio          NaN   \n",
       "2  FECHADO 2022-07-21 12:39:29 2022-07-21 13:50:40     Médio          NaN   \n",
       "3  FECHADO 2022-07-21 13:50:48 2022-07-21 17:52:51   Pequeno          NaN   \n",
       "4  FECHADO 2022-07-21 13:51:48 2022-07-21 17:52:59     Médio          NaN   \n",
       "\n",
       "   ...  polimento  vitrificacao  lavagemmotor  tratamentovidros  \\\n",
       "0  ...        NaN           NaN          50.0               NaN   \n",
       "1  ...        NaN           NaN           NaN               NaN   \n",
       "2  ...        NaN           NaN           NaN               NaN   \n",
       "3  ...        NaN           NaN           NaN               NaN   \n",
       "4  ...        NaN           NaN           NaN               NaN   \n",
       "\n",
       "   protecaopintura  lavagemdetalhada  lavagemmoto  outros  descontos  total  \n",
       "0              NaN               NaN          NaN     NaN       10.0   90.0  \n",
       "1              NaN               NaN          NaN     NaN        NaN   70.0  \n",
       "2              NaN               NaN          NaN     NaN       30.0   40.0  \n",
       "3              NaN               NaN          NaN     NaN       10.0   40.0  \n",
       "4              NaN               NaN          NaN     NaN        NaN   70.0  \n",
       "\n",
       "[5 rows x 22 columns]"
      ]
     },
     "execution_count": 2,
     "metadata": {},
     "output_type": "execute_result"
    }
   ],
   "source": [
    "dados = pd.read_csv(\"TR Estética Automotiva.csv\", \n",
    "          sep = \",\", \n",
    "          parse_dates = [\"dtatendimento\", \"dtfechamento\"], \n",
    "          dayfirst = True)\n",
    "\n",
    "#Visulizando\n",
    "dados.head()"
   ]
  },
  {
   "cell_type": "markdown",
   "id": "491c66fc",
   "metadata": {},
   "source": [
    "# Tratando Valores Nulos"
   ]
  },
  {
   "cell_type": "code",
   "execution_count": 15,
   "id": "34aa12f4",
   "metadata": {},
   "outputs": [
    {
     "data": {
      "text/plain": [
       "ID                  0\n",
       "nome                0\n",
       "responsavel         0\n",
       "origem              0\n",
       "temperatura         0\n",
       "situacao            0\n",
       "dtatendimento       0\n",
       "dtfechamento        0\n",
       "categoria           0\n",
       "restauracao         0\n",
       "higienizacao        0\n",
       "lavagem             0\n",
       "polimento           0\n",
       "vitrificacao        0\n",
       "lavagemmotor        0\n",
       "tratamentovidros    0\n",
       "protecaopintura     0\n",
       "lavagemdetalhada    0\n",
       "lavagemmoto         0\n",
       "outros              0\n",
       "descontos           0\n",
       "total               0\n",
       "dtype: int64"
      ]
     },
     "execution_count": 15,
     "metadata": {},
     "output_type": "execute_result"
    }
   ],
   "source": [
    "dados.fillna(0, inplace = True)\n",
    "dados.isnull().sum()"
   ]
  },
  {
   "cell_type": "markdown",
   "id": "d6f2a6fc",
   "metadata": {},
   "source": [
    "## Tamanho dos Dados"
   ]
  },
  {
   "cell_type": "code",
   "execution_count": 4,
   "id": "a79368aa",
   "metadata": {},
   "outputs": [
    {
     "data": {
      "text/plain": [
       "(73, 22)"
      ]
     },
     "execution_count": 4,
     "metadata": {},
     "output_type": "execute_result"
    }
   ],
   "source": [
    "dados.shape\n",
    "# Nº de Linhas e Colunas"
   ]
  },
  {
   "cell_type": "markdown",
   "id": "f1b9b59c",
   "metadata": {},
   "source": [
    "## Verificando os Tipos de Dados"
   ]
  },
  {
   "cell_type": "code",
   "execution_count": 5,
   "id": "62b3c855",
   "metadata": {},
   "outputs": [
    {
     "name": "stdout",
     "output_type": "stream",
     "text": [
      "<class 'pandas.core.frame.DataFrame'>\n",
      "RangeIndex: 73 entries, 0 to 72\n",
      "Data columns (total 22 columns):\n",
      " #   Column            Non-Null Count  Dtype         \n",
      "---  ------            --------------  -----         \n",
      " 0   ID                73 non-null     object        \n",
      " 1   nome              73 non-null     object        \n",
      " 2   responsavel       73 non-null     object        \n",
      " 3   origem            73 non-null     object        \n",
      " 4   temperatura       73 non-null     object        \n",
      " 5   situacao          73 non-null     object        \n",
      " 6   dtatendimento     73 non-null     datetime64[ns]\n",
      " 7   dtfechamento      73 non-null     object        \n",
      " 8   categoria         73 non-null     object        \n",
      " 9   restauracao       73 non-null     float64       \n",
      " 10  higienizacao      73 non-null     float64       \n",
      " 11  lavagem           73 non-null     float64       \n",
      " 12  polimento         73 non-null     float64       \n",
      " 13  vitrificacao      73 non-null     float64       \n",
      " 14  lavagemmotor      73 non-null     float64       \n",
      " 15  tratamentovidros  73 non-null     float64       \n",
      " 16  protecaopintura   73 non-null     float64       \n",
      " 17  lavagemdetalhada  73 non-null     float64       \n",
      " 18  lavagemmoto       73 non-null     float64       \n",
      " 19  outros            73 non-null     float64       \n",
      " 20  descontos         73 non-null     float64       \n",
      " 21  total             73 non-null     float64       \n",
      "dtypes: datetime64[ns](1), float64(13), object(8)\n",
      "memory usage: 12.7+ KB\n"
     ]
    }
   ],
   "source": [
    "dados.info()"
   ]
  },
  {
   "cell_type": "markdown",
   "id": "c2ed2dba",
   "metadata": {},
   "source": [
    "# Dados Categóricos"
   ]
  },
  {
   "cell_type": "code",
   "execution_count": 6,
   "id": "d7bee271",
   "metadata": {},
   "outputs": [
    {
     "data": {
      "text/plain": [
       "origem\n",
       "Indicação     13\n",
       "Instagram      2\n",
       "Luminoso       5\n",
       "Outros        35\n",
       "Recorrente    18\n",
       "dtype: int64"
      ]
     },
     "execution_count": 6,
     "metadata": {},
     "output_type": "execute_result"
    }
   ],
   "source": [
    "# Origem\n",
    "origem = dados.groupby(['origem']).size()\n",
    "origem"
   ]
  },
  {
   "cell_type": "code",
   "execution_count": 7,
   "id": "b446f9c8",
   "metadata": {},
   "outputs": [
    {
     "data": {
      "text/plain": [
       "temperatura\n",
       "Morno      5\n",
       "Quente    68\n",
       "dtype: int64"
      ]
     },
     "execution_count": 7,
     "metadata": {},
     "output_type": "execute_result"
    }
   ],
   "source": [
    "# Temperatura\n",
    "temperatura = dados.groupby(['temperatura']).size()\n",
    "temperatura"
   ]
  },
  {
   "cell_type": "code",
   "execution_count": 8,
   "id": "c22b9e47",
   "metadata": {},
   "outputs": [
    {
     "data": {
      "text/plain": [
       "situacao\n",
       "EM ABERTO     8\n",
       "FECHADO      65\n",
       "dtype: int64"
      ]
     },
     "execution_count": 8,
     "metadata": {},
     "output_type": "execute_result"
    }
   ],
   "source": [
    "# Situação\n",
    "situacao = dados.groupby(['situacao']).size()\n",
    "situacao"
   ]
  },
  {
   "cell_type": "code",
   "execution_count": 9,
   "id": "792605ff",
   "metadata": {},
   "outputs": [
    {
     "data": {
      "text/plain": [
       "responsavel\n",
       "Gabriel    30\n",
       "Victor     43\n",
       "dtype: int64"
      ]
     },
     "execution_count": 9,
     "metadata": {},
     "output_type": "execute_result"
    }
   ],
   "source": [
    "# Responsável\n",
    "responsavel = dados.groupby(['responsavel']).size()\n",
    "responsavel"
   ]
  },
  {
   "cell_type": "markdown",
   "id": "26d3d124",
   "metadata": {},
   "source": [
    "# Key Perfomance Indicator (KPI)"
   ]
  },
  {
   "cell_type": "markdown",
   "id": "e3c839c3",
   "metadata": {},
   "source": [
    "## Origem dos Leads\n",
    "Quais são os canais mais utilizados pelos Leads?"
   ]
  },
  {
   "cell_type": "code",
   "execution_count": 10,
   "id": "693b1bf1",
   "metadata": {},
   "outputs": [
    {
     "data": {
      "text/plain": [
       "Text(0, 0.5, 'Quantidade')"
      ]
     },
     "execution_count": 10,
     "metadata": {},
     "output_type": "execute_result"
    },
    {
     "data": {
      "image/png": "[encoded data removed]",
      "text/plain": [
       "<Figure size 432x288 with 1 Axes>"
      ]
     },
     "metadata": {
      "needs_background": "light"
     },
     "output_type": "display_data"
    }
   ],
   "source": [
    "#Agrupando as origens\n",
    "origem = dados.groupby(['origem']).size()\n",
    "\n",
    "#Ordenando os dados em ordem crescente\n",
    "origem = origem.sort_values()\n",
    "\n",
    "#Função para adicionar os rótulos de valor\n",
    "def labelorigem(x,y):\n",
    "    for i in range(len(x)):\n",
    "        plt.text(i, y[i], y[i], ha = 'center')\n",
    "        \n",
    "x = origem\n",
    "y = origem\n",
    "\n",
    "#Gerando o gráfico e alterando as cores\n",
    "grafico = origem.plot.bar(color=['red', 'orange', 'blue', 'green', 'purple'])\n",
    "\n",
    "#Títulos e nome dos eixos\n",
    "labelorigem(x, y)\n",
    "plt.title('Quantidade de Leads por Origem')\n",
    "plt.xlabel('Origem')\n",
    "plt.ylabel('Quantidade')"
   ]
  },
  {
   "cell_type": "markdown",
   "id": "d584cb82",
   "metadata": {},
   "source": [
    "#### Conclusão\n",
    "\n",
    "Devido a grande quantidade de Leads de origem \"Outros\", podemos observar o seguinte:\n",
    "\n",
    "- Existem um grande volume de Leads em possíveis canais não mapeados.\n",
    "- E/Ou, essa informação não está sendo obtida como deveria no momento da atendimento.\n",
    "    \n",
    "Com a falta de clareza nas informações, podemos concluir que os novos esforços deveriam ser direcionados à identificação desses canais e na realização de treinamentos à equipe de vendas para reforçar a importância da origem dos clientes para a tomada de decisões."
   ]
  },
  {
   "cell_type": "markdown",
   "id": "2c3d43fb",
   "metadata": {},
   "source": [
    "## Conversão por Origem\n",
    "Quais canais possuem uma maior taxa de conversão?"
   ]
  },
  {
   "cell_type": "code",
   "execution_count": 11,
   "id": "4c83c1ad",
   "metadata": {},
   "outputs": [
    {
     "data": {
      "text/plain": [
       "Text(0, 0.5, 'Taxa de Conversão')"
      ]
     },
     "execution_count": 11,
     "metadata": {},
     "output_type": "execute_result"
    },
    {
     "data": {
      "image/png": "[encoded data removed]",
      "text/plain": [
       "<Figure size 432x288 with 1 Axes>"
      ]
     },
     "metadata": {
      "needs_background": "light"
     },
     "output_type": "display_data"
    }
   ],
   "source": [
    "#Calculando a taxa de conversão por origem\n",
    "taxa = ((dados.situacao == \"FECHADO\").sum() and dados.groupby(['origem']).size())/dados.ID.count()\n",
    "\n",
    "#Ordenando os dados em ordem crescente\n",
    "taxa = taxa.sort_values()\n",
    "\n",
    "#Função para adicionar os rótulos de valor\n",
    "def labeltaxa(x,y):\n",
    "    for i in range(len(x)):\n",
    "        plt.text(i, y[i], y[i], ha = 'center')\n",
    "        \n",
    "x = taxa\n",
    "y = taxa\n",
    "\n",
    "#Gerando o gráfico e alterando as cores\n",
    "grafico = taxa.plot.bar(color=['red', 'orange', 'blue', 'green', 'purple'])\n",
    "\n",
    "#Convertendo o formato do eixo \"y\" para percentual\n",
    "grafico.yaxis.set_major_formatter(FuncFormatter(lambda y, _: '{:.0%}'.format(y)))\n",
    "\n",
    "#Títulos e nome dos eixos\n",
    "labeltaxa(x, y)\n",
    "plt.title('Quantidade de Leads e Conversão por Origem')\n",
    "plt.xlabel('Origem')\n",
    "plt.ylabel('Taxa de Conversão')"
   ]
  },
  {
   "cell_type": "markdown",
   "id": "f21a88c5",
   "metadata": {},
   "source": [
    "## Temperatura dos Leads\n",
    "Qual o nível de interesse dos Leads pelos serviços prestados?\n",
    "- Frio: Pouco Interessado\n",
    "- Morno: Interesse Médio\n",
    "- Quente: Muito Interessado"
   ]
  },
  {
   "cell_type": "code",
   "execution_count": 18,
   "id": "6df1a2b0",
   "metadata": {},
   "outputs": [
    {
     "data": {
      "text/plain": [
       "Text(0, 0.5, 'Quantidade')"
      ]
     },
     "execution_count": 18,
     "metadata": {},
     "output_type": "execute_result"
    },
    {
     "data": {
      "image/png": "[encoded data removed]",
      "text/plain": [
       "<Figure size 432x288 with 1 Axes>"
      ]
     },
     "metadata": {
      "needs_background": "light"
     },
     "output_type": "display_data"
    }
   ],
   "source": [
    "#Agrupando as temperaturas\n",
    "temperatura = dados.groupby(['temperatura']).size()\n",
    "\n",
    "#Ordenando os dados em ordem crescente\n",
    "temperatura = temperatura.sort_values()\n",
    "\n",
    "#Função para adicionar os rótulos de valor\n",
    "def labeltemperatura(x,y):\n",
    "    for i in range(len(x)):\n",
    "        plt.text(i, y[i], y[i], ha = 'center')\n",
    "        \n",
    "x = temperatura\n",
    "y = temperatura\n",
    "\n",
    "#Gerando o gráfico e alterando as cores\n",
    "grafico = temperatura.plot.bar(color=['yellow', 'red'])\n",
    "\n",
    "#Títulos e nome dos eixos\n",
    "labeltemperatura(x, y)\n",
    "plt.title('Quantidade de Leads por Temperatura')\n",
    "plt.xlabel('Temperatura')\n",
    "plt.ylabel('Quantidade')"
   ]
  },
  {
   "cell_type": "markdown",
   "id": "caa948f7",
   "metadata": {},
   "source": [
    "Todos os Leads foram classificados como \"Quentes\". Isso pode ser positivo a partir de uma boa taxa de conversão, ou, novamente os vendedores não estão conseguindo obter e registrar as informações como deveriam."
   ]
  },
  {
   "cell_type": "markdown",
   "id": "caf7a546",
   "metadata": {},
   "source": [
    "## Vendas\n",
    "Quantidade de Leads que fecharam ou não algum tipo de serviço."
   ]
  },
  {
   "cell_type": "code",
   "execution_count": 20,
   "id": "b8a16468",
   "metadata": {},
   "outputs": [
    {
     "data": {
      "text/plain": [
       "Text(0, 0.5, 'Quantidade')"
      ]
     },
     "execution_count": 20,
     "metadata": {},
     "output_type": "execute_result"
    },
    {
     "data": {
      "image/png": "[encoded data removed]",
      "text/plain": [
       "<Figure size 432x288 with 1 Axes>"
      ]
     },
     "metadata": {
      "needs_background": "light"
     },
     "output_type": "display_data"
    }
   ],
   "source": [
    "#Agrupando as situações\n",
    "situacao = dados.groupby(['situacao']).size()\n",
    "\n",
    "#Ordenando os dados em ordem crescente\n",
    "situacao = situacao.sort_values()\n",
    "\n",
    "#Função para adicionar os rótulos de valor\n",
    "def labelsituacao(x,y):\n",
    "    for i in range(len(x)):\n",
    "        plt.text(i, y[i], y[i], ha = 'center')\n",
    "        \n",
    "x = situacao\n",
    "y = situacao\n",
    "\n",
    "#Gerando o gráfico e alterando as cores\n",
    "grafico = situacao.plot.bar(color=['blue', 'green'])\n",
    "\n",
    "#Títulos e nome dos eixos\n",
    "labelsituacao(x, y)\n",
    "plt.title('Situação dos Atendimentos')\n",
    "plt.xlabel('Situações')\n",
    "plt.ylabel('Quantidade')"
   ]
  },
  {
   "cell_type": "markdown",
   "id": "cb5cb184",
   "metadata": {},
   "source": [
    "Existe um volume muito maior de clientes que adquiriram algum tipo de serviço em relação a quantidade de atendimentos, isso pode representar uma ótima taxa de conversão."
   ]
  },
  {
   "cell_type": "markdown",
   "id": "13c87dd5",
   "metadata": {},
   "source": [
    "## Taxa de Conversão\n",
    "Percentual de fechamentos sobre a quantidade de atendimentos."
   ]
  },
  {
   "cell_type": "code",
   "execution_count": 14,
   "id": "e890a5d2",
   "metadata": {},
   "outputs": [
    {
     "data": {
      "text/plain": [
       "' 89.04%'"
      ]
     },
     "execution_count": 14,
     "metadata": {},
     "output_type": "execute_result"
    }
   ],
   "source": [
    "taxa = ((dados.situacao == \"FECHADO\").sum())/(dados.ID.count())\n",
    "\n",
    "# Conversão para Percentual\n",
    "\"{: .2%}\". format(taxa)"
   ]
  },
  {
   "cell_type": "markdown",
   "id": "b2575681",
   "metadata": {},
   "source": [
    "Confirmando o resultado do gráfico anterior, podemos ter o entendimento que a empresa está conseguindo fechar com quase todos os seus clientes, realmente uma ótima taxa de conversão."
   ]
  }
 ],
 "metadata": {
  "kernelspec": {
   "display_name": "Python 3 (ipykernel)",
   "language": "python",
   "name": "python3"
  },
  "language_info": {
   "codemirror_mode": {
    "name": "ipython",
    "version": 3
   },
   "file_extension": ".py",
   "mimetype": "text/x-python",
   "name": "python",
   "nbconvert_exporter": "python",
   "pygments_lexer": "ipython3",
   "version": "3.9.12"
  }
 },
 "nbformat": 4,
 "nbformat_minor": 5
}
