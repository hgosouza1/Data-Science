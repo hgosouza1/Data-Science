{
 "cells": [
  {
   "cell_type": "markdown",
   "id": "0e528573",
   "metadata": {},
   "source": [
    "## Importando as Bibliotecas"
   ]
  },
  {
   "cell_type": "code",
   "execution_count": 1,
   "id": "23d60d7a",
   "metadata": {},
   "outputs": [],
   "source": [
    "import pandas as pd\n",
    "import seaborn as srn"
   ]
  },
  {
   "cell_type": "markdown",
   "id": "07b6fab2",
   "metadata": {},
   "source": [
    "## Importando os Dados"
   ]
  },
  {
   "cell_type": "code",
   "execution_count": 7,
   "id": "1bac4a13",
   "metadata": {},
   "outputs": [
    {
     "data": {
      "text/html": [
       "<div>\n",
       "<style scoped>\n",
       "    .dataframe tbody tr th:only-of-type {\n",
       "        vertical-align: middle;\n",
       "    }\n",
       "\n",
       "    .dataframe tbody tr th {\n",
       "        vertical-align: top;\n",
       "    }\n",
       "\n",
       "    .dataframe thead th {\n",
       "        text-align: right;\n",
       "    }\n",
       "</style>\n",
       "<table border=\"1\" class=\"dataframe\">\n",
       "  <thead>\n",
       "    <tr style=\"text-align: right;\">\n",
       "      <th></th>\n",
       "      <th>ID</th>\n",
       "      <th>Nome</th>\n",
       "      <th>Responsável</th>\n",
       "      <th>Telefone</th>\n",
       "      <th>Origem</th>\n",
       "      <th>Temperatura</th>\n",
       "      <th>Situação</th>\n",
       "      <th>Observações</th>\n",
       "      <th>Data Atendimento</th>\n",
       "      <th>Data Fechamento</th>\n",
       "      <th>Data Referência Fechamento</th>\n",
       "      <th>Data Referência</th>\n",
       "    </tr>\n",
       "  </thead>\n",
       "  <tbody>\n",
       "    <tr>\n",
       "      <th>0</th>\n",
       "      <td>345zYB2RStaeNDSoFPrKCQ</td>\n",
       "      <td>Tintin</td>\n",
       "      <td>Victor</td>\n",
       "      <td>61986059992</td>\n",
       "      <td>Outros</td>\n",
       "      <td>Quente</td>\n",
       "      <td>FECHADO</td>\n",
       "      <td>Fechadura do porta malas com defeito ( fechar ...</td>\n",
       "      <td>07/20/2022</td>\n",
       "      <td>07/20/2022</td>\n",
       "      <td>07/20/2022</td>\n",
       "      <td>7.0</td>\n",
       "    </tr>\n",
       "    <tr>\n",
       "      <th>1</th>\n",
       "      <td>kodJrgZQQbOYocrI4wEXug</td>\n",
       "      <td>Victor Luiz</td>\n",
       "      <td>Victor</td>\n",
       "      <td>61984186111</td>\n",
       "      <td>Outros</td>\n",
       "      <td>Quente</td>\n",
       "      <td>FECHADO</td>\n",
       "      <td>Ter cuidado com os botões no painel ( descarre...</td>\n",
       "      <td>07/20/2022</td>\n",
       "      <td>07/29/2022</td>\n",
       "      <td>07/29/2022</td>\n",
       "      <td>7.0</td>\n",
       "    </tr>\n",
       "    <tr>\n",
       "      <th>2</th>\n",
       "      <td>9XlS0WWDTQ6xUnyp3EcXyg</td>\n",
       "      <td>Wesley</td>\n",
       "      <td>Victor</td>\n",
       "      <td>61986621718</td>\n",
       "      <td>Indicação</td>\n",
       "      <td>Quente</td>\n",
       "      <td>FECHADO</td>\n",
       "      <td>40,00</td>\n",
       "      <td>07/21/2022</td>\n",
       "      <td>07/21/2022</td>\n",
       "      <td>07/21/2022</td>\n",
       "      <td>7.0</td>\n",
       "    </tr>\n",
       "    <tr>\n",
       "      <th>3</th>\n",
       "      <td>a-ihIurH5Q9ipdAPzY3AeBw</td>\n",
       "      <td>Diogo</td>\n",
       "      <td>Victor</td>\n",
       "      <td>61982010861</td>\n",
       "      <td>Outros</td>\n",
       "      <td>Quente</td>\n",
       "      <td>FECHADO</td>\n",
       "      <td>NaN</td>\n",
       "      <td>07/21/2022</td>\n",
       "      <td>07/21/2022</td>\n",
       "      <td>07/21/2022</td>\n",
       "      <td>7.0</td>\n",
       "    </tr>\n",
       "    <tr>\n",
       "      <th>4</th>\n",
       "      <td>EnbNzP.8Qs-K3r-gQI3IOQ</td>\n",
       "      <td>Rubem Borges</td>\n",
       "      <td>Victor</td>\n",
       "      <td>61995096911</td>\n",
       "      <td>Outros</td>\n",
       "      <td>Quente</td>\n",
       "      <td>FECHADO</td>\n",
       "      <td>Serviço de permuta</td>\n",
       "      <td>07/21/2022</td>\n",
       "      <td>07/21/2022</td>\n",
       "      <td>07/21/2022</td>\n",
       "      <td>7.0</td>\n",
       "    </tr>\n",
       "  </tbody>\n",
       "</table>\n",
       "</div>"
      ],
      "text/plain": [
       "                        ID           Nome Responsável     Telefone     Origem  \\\n",
       "0   345zYB2RStaeNDSoFPrKCQ        Tintin       Victor  61986059992     Outros   \n",
       "1   kodJrgZQQbOYocrI4wEXug   Victor Luiz       Victor  61984186111     Outros   \n",
       "2   9XlS0WWDTQ6xUnyp3EcXyg         Wesley      Victor  61986621718  Indicação   \n",
       "3  a-ihIurH5Q9ipdAPzY3AeBw         Diogo       Victor  61982010861     Outros   \n",
       "4   EnbNzP.8Qs-K3r-gQI3IOQ  Rubem Borges       Victor  61995096911     Outros   \n",
       "\n",
       "  Temperatura Situação                                        Observações  \\\n",
       "0      Quente  FECHADO  Fechadura do porta malas com defeito ( fechar ...   \n",
       "1      Quente  FECHADO  Ter cuidado com os botões no painel ( descarre...   \n",
       "2      Quente  FECHADO                                              40,00   \n",
       "3      Quente  FECHADO                                                NaN   \n",
       "4      Quente  FECHADO                                Serviço de permuta    \n",
       "\n",
       "  Data Atendimento Data Fechamento Data Referência Fechamento  Data Referência  \n",
       "0       07/20/2022      07/20/2022                 07/20/2022              7.0  \n",
       "1       07/20/2022      07/29/2022                 07/29/2022              7.0  \n",
       "2       07/21/2022      07/21/2022                 07/21/2022              7.0  \n",
       "3       07/21/2022      07/21/2022                 07/21/2022              7.0  \n",
       "4       07/21/2022      07/21/2022                 07/21/2022              7.0  "
      ]
     },
     "execution_count": 7,
     "metadata": {},
     "output_type": "execute_result"
    }
   ],
   "source": [
    "dataset = dataset = pd.read_csv(\"TR Estética Automotiva - Cliente.csv\", sep=\",\")\n",
    "#Visulizando\n",
    "dataset.head()"
   ]
  },
  {
   "cell_type": "markdown",
   "id": "bcdabcf1",
   "metadata": {},
   "source": [
    "# Tamanho dos Dados"
   ]
  },
  {
   "cell_type": "code",
   "execution_count": 8,
   "id": "a1184d81",
   "metadata": {},
   "outputs": [
    {
     "data": {
      "text/plain": [
       "(49, 12)"
      ]
     },
     "execution_count": 8,
     "metadata": {},
     "output_type": "execute_result"
    }
   ],
   "source": [
    "dataset.shape\n",
    "# Nº de Linhas e Colunas"
   ]
  },
  {
   "cell_type": "markdown",
   "id": "6d6e32e6",
   "metadata": {},
   "source": [
    "## Explorando os Dados Categóricos"
   ]
  },
  {
   "cell_type": "code",
   "execution_count": 12,
   "id": "683c07de",
   "metadata": {},
   "outputs": [
    {
     "data": {
      "text/plain": [
       "ID                             object\n",
       "Nome                           object\n",
       "Responsável                    object\n",
       "Telefone                       object\n",
       "Origem                         object\n",
       "Temperatura                    object\n",
       "Situação                       object\n",
       "Observações                    object\n",
       "Data Atendimento               object\n",
       "Data Fechamento                object\n",
       "Data Referência Fechamento     object\n",
       "Data Referência               float64\n",
       "dtype: object"
      ]
     },
     "execution_count": 12,
     "metadata": {},
     "output_type": "execute_result"
    }
   ],
   "source": [
    "dataset.dtypes\n",
    "# Tipos de Dados"
   ]
  },
  {
   "cell_type": "code",
   "execution_count": null,
   "id": "ad1ed099",
   "metadata": {},
   "outputs": [],
   "source": []
  }
 ],
 "metadata": {
  "kernelspec": {
   "display_name": "Python 3 (ipykernel)",
   "language": "python",
   "name": "python3"
  },
  "language_info": {
   "codemirror_mode": {
    "name": "ipython",
    "version": 3
   },
   "file_extension": ".py",
   "mimetype": "text/x-python",
   "name": "python",
   "nbconvert_exporter": "python",
   "pygments_lexer": "ipython3",
   "version": "3.9.12"
  }
 },
 "nbformat": 4,
 "nbformat_minor": 5
}
