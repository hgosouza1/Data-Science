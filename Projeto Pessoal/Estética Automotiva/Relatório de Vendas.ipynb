{
 "cells": [
  {
   "cell_type": "markdown",
   "id": "fc9f40fa",
   "metadata": {},
   "source": [
    "# Análise do Negócio\n",
    "- O objetivo desse projeto é analisar todas os resultados e informações de uma empresa focada em estética automotiva.\n",
    "\n",
    "- Os dados foram coletados a partir do sistema CRM que foi implementado recentemente.\n",
    "\n",
    "- A quantidade de dados ainda é baixa, mas já é possível realizar análises poderosas e observar as tendências.\n",
    "#### *A utilização dos dados foi autorizada pelos responsáveis."
   ]
  },
  {
   "cell_type": "markdown",
   "id": "48a4ce7a",
   "metadata": {},
   "source": [
    "## Importando as Bibliotecas"
   ]
  },
  {
   "cell_type": "code",
   "execution_count": 82,
   "id": "637e1b02",
   "metadata": {},
   "outputs": [],
   "source": [
    "import pandas as pd\n",
    "import seaborn as srn\n",
    "import matplotlib.pyplot as plt\n",
    "from matplotlib.ticker import FuncFormatter"
   ]
  },
  {
   "cell_type": "markdown",
   "id": "d476a9c1",
   "metadata": {},
   "source": [
    "## Importando os Dados"
   ]
  },
  {
   "cell_type": "code",
   "execution_count": 75,
   "id": "b63a216e",
   "metadata": {},
   "outputs": [
    {
     "data": {
      "text/html": [
       "<div>\n",
       "<style scoped>\n",
       "    .dataframe tbody tr th:only-of-type {\n",
       "        vertical-align: middle;\n",
       "    }\n",
       "\n",
       "    .dataframe tbody tr th {\n",
       "        vertical-align: top;\n",
       "    }\n",
       "\n",
       "    .dataframe thead th {\n",
       "        text-align: right;\n",
       "    }\n",
       "</style>\n",
       "<table border=\"1\" class=\"dataframe\">\n",
       "  <thead>\n",
       "    <tr style=\"text-align: right;\">\n",
       "      <th></th>\n",
       "      <th>ID</th>\n",
       "      <th>Nome</th>\n",
       "      <th>Responsável</th>\n",
       "      <th>Origem</th>\n",
       "      <th>Temperatura</th>\n",
       "      <th>Situação</th>\n",
       "      <th>Observações</th>\n",
       "      <th>Data Atendimento</th>\n",
       "      <th>Data Fechamento</th>\n",
       "      <th>Data Referência Fechamento</th>\n",
       "      <th>Data Referência</th>\n",
       "    </tr>\n",
       "  </thead>\n",
       "  <tbody>\n",
       "    <tr>\n",
       "      <th>0</th>\n",
       "      <td>345zYB2RStaeNDSoFPrKCQ</td>\n",
       "      <td>Tintin</td>\n",
       "      <td>Victor</td>\n",
       "      <td>Outros</td>\n",
       "      <td>Quente</td>\n",
       "      <td>FECHADO</td>\n",
       "      <td>Fechadura do porta malas com defeito ( fechar ...</td>\n",
       "      <td>2022-07-20</td>\n",
       "      <td>2022-07-20</td>\n",
       "      <td>2022-07-20</td>\n",
       "      <td>7.0</td>\n",
       "    </tr>\n",
       "    <tr>\n",
       "      <th>1</th>\n",
       "      <td>kodJrgZQQbOYocrI4wEXug</td>\n",
       "      <td>Victor Luiz</td>\n",
       "      <td>Victor</td>\n",
       "      <td>Outros</td>\n",
       "      <td>Quente</td>\n",
       "      <td>FECHADO</td>\n",
       "      <td>Ter cuidado com os botões no painel ( descarre...</td>\n",
       "      <td>2022-07-20</td>\n",
       "      <td>2022-07-29</td>\n",
       "      <td>2022-07-29</td>\n",
       "      <td>7.0</td>\n",
       "    </tr>\n",
       "    <tr>\n",
       "      <th>2</th>\n",
       "      <td>9XlS0WWDTQ6xUnyp3EcXyg</td>\n",
       "      <td>Wesley</td>\n",
       "      <td>Victor</td>\n",
       "      <td>Indicação</td>\n",
       "      <td>Quente</td>\n",
       "      <td>FECHADO</td>\n",
       "      <td>40</td>\n",
       "      <td>2022-07-21</td>\n",
       "      <td>2022-07-21</td>\n",
       "      <td>2022-07-21</td>\n",
       "      <td>7.0</td>\n",
       "    </tr>\n",
       "    <tr>\n",
       "      <th>3</th>\n",
       "      <td>a-ihIurH5Q9ipdAPzY3AeBw</td>\n",
       "      <td>Diogo</td>\n",
       "      <td>Victor</td>\n",
       "      <td>Outros</td>\n",
       "      <td>Quente</td>\n",
       "      <td>FECHADO</td>\n",
       "      <td>NaN</td>\n",
       "      <td>2022-07-21</td>\n",
       "      <td>2022-07-21</td>\n",
       "      <td>2022-07-21</td>\n",
       "      <td>7.0</td>\n",
       "    </tr>\n",
       "    <tr>\n",
       "      <th>4</th>\n",
       "      <td>EnbNzP.8Qs-K3r-gQI3IOQ</td>\n",
       "      <td>Rubem Borges</td>\n",
       "      <td>Victor</td>\n",
       "      <td>Outros</td>\n",
       "      <td>Quente</td>\n",
       "      <td>FECHADO</td>\n",
       "      <td>Serviço de permuta</td>\n",
       "      <td>2022-07-21</td>\n",
       "      <td>2022-07-21</td>\n",
       "      <td>2022-07-21</td>\n",
       "      <td>7.0</td>\n",
       "    </tr>\n",
       "  </tbody>\n",
       "</table>\n",
       "</div>"
      ],
      "text/plain": [
       "                        ID          Nome Responsável     Origem Temperatura  \\\n",
       "0   345zYB2RStaeNDSoFPrKCQ        Tintin      Victor     Outros      Quente   \n",
       "1   kodJrgZQQbOYocrI4wEXug   Victor Luiz      Victor     Outros      Quente   \n",
       "2   9XlS0WWDTQ6xUnyp3EcXyg        Wesley      Victor  Indicação      Quente   \n",
       "3  a-ihIurH5Q9ipdAPzY3AeBw         Diogo      Victor     Outros      Quente   \n",
       "4   EnbNzP.8Qs-K3r-gQI3IOQ  Rubem Borges      Victor     Outros      Quente   \n",
       "\n",
       "  Situação                                        Observações  \\\n",
       "0  FECHADO  Fechadura do porta malas com defeito ( fechar ...   \n",
       "1  FECHADO  Ter cuidado com os botões no painel ( descarre...   \n",
       "2  FECHADO                                                 40   \n",
       "3  FECHADO                                                NaN   \n",
       "4  FECHADO                                 Serviço de permuta   \n",
       "\n",
       "  Data Atendimento Data Fechamento Data Referência Fechamento  Data Referência  \n",
       "0       2022-07-20      2022-07-20                 2022-07-20              7.0  \n",
       "1       2022-07-20      2022-07-29                 2022-07-29              7.0  \n",
       "2       2022-07-21      2022-07-21                 2022-07-21              7.0  \n",
       "3       2022-07-21      2022-07-21                 2022-07-21              7.0  \n",
       "4       2022-07-21      2022-07-21                 2022-07-21              7.0  "
      ]
     },
     "execution_count": 75,
     "metadata": {},
     "output_type": "execute_result"
    }
   ],
   "source": [
    "dados = pd.read_csv(\"TR Estética Automotiva - Cliente.csv\", \n",
    "          sep = \",\", \n",
    "          parse_dates = [\"Data Atendimento\", \"Data Fechamento\", \"Data Referência Fechamento\"], \n",
    "          dayfirst = False)\n",
    "\n",
    "#Visulizando\n",
    "dados.head()"
   ]
  },
  {
   "cell_type": "markdown",
   "id": "1848744e",
   "metadata": {},
   "source": [
    "## Excluindo Linhas Nulas"
   ]
  },
  {
   "cell_type": "code",
   "execution_count": null,
   "id": "bf5f919f",
   "metadata": {},
   "outputs": [],
   "source": [
    "dados.dropna(how='all')"
   ]
  },
  {
   "cell_type": "markdown",
   "id": "d6f2a6fc",
   "metadata": {},
   "source": [
    "## Tamanho dos Dados"
   ]
  },
  {
   "cell_type": "code",
   "execution_count": 101,
   "id": "a79368aa",
   "metadata": {},
   "outputs": [
    {
     "data": {
      "text/plain": [
       "(49, 11)"
      ]
     },
     "execution_count": 101,
     "metadata": {},
     "output_type": "execute_result"
    }
   ],
   "source": [
    "dados.shape\n",
    "# Nº de Linhas e Colunas"
   ]
  },
  {
   "cell_type": "markdown",
   "id": "f1b9b59c",
   "metadata": {},
   "source": [
    "## Verificando os Tipos de Dados"
   ]
  },
  {
   "cell_type": "code",
   "execution_count": 102,
   "id": "62b3c855",
   "metadata": {},
   "outputs": [
    {
     "name": "stdout",
     "output_type": "stream",
     "text": [
      "<class 'pandas.core.frame.DataFrame'>\n",
      "RangeIndex: 49 entries, 0 to 48\n",
      "Data columns (total 11 columns):\n",
      " #   Column                      Non-Null Count  Dtype         \n",
      "---  ------                      --------------  -----         \n",
      " 0   ID                          47 non-null     object        \n",
      " 1   Nome                        47 non-null     object        \n",
      " 2   Responsável                 47 non-null     object        \n",
      " 3   Origem                      47 non-null     object        \n",
      " 4   Temperatura                 47 non-null     object        \n",
      " 5   Situação                    47 non-null     object        \n",
      " 6   Observações                 7 non-null      object        \n",
      " 7   Data Atendimento            47 non-null     datetime64[ns]\n",
      " 8   Data Fechamento             44 non-null     datetime64[ns]\n",
      " 9   Data Referência Fechamento  45 non-null     datetime64[ns]\n",
      " 10  Data Referência             47 non-null     float64       \n",
      "dtypes: datetime64[ns](3), float64(1), object(7)\n",
      "memory usage: 4.3+ KB\n"
     ]
    }
   ],
   "source": [
    "dados.info()"
   ]
  },
  {
   "cell_type": "markdown",
   "id": "491c66fc",
   "metadata": {},
   "source": [
    "# Dados Categóricos"
   ]
  },
  {
   "cell_type": "code",
   "execution_count": 10,
   "id": "7d19a6d9",
   "metadata": {},
   "outputs": [
    {
     "data": {
      "text/plain": [
       "Origem\n",
       "Indicação     11\n",
       "Instagram      1\n",
       "Outros        29\n",
       "Recorrente     6\n",
       "dtype: int64"
      ]
     },
     "execution_count": 10,
     "metadata": {},
     "output_type": "execute_result"
    }
   ],
   "source": [
    "# Origem\n",
    "agrupado = dados.groupby(['Origem']).size()\n",
    "agrupado"
   ]
  },
  {
   "cell_type": "code",
   "execution_count": 11,
   "id": "b446f9c8",
   "metadata": {},
   "outputs": [
    {
     "data": {
      "text/plain": [
       "Temperatura\n",
       "Quente    47\n",
       "dtype: int64"
      ]
     },
     "execution_count": 11,
     "metadata": {},
     "output_type": "execute_result"
    }
   ],
   "source": [
    "# Temperatura\n",
    "agrupado = dados.groupby(['Temperatura']).size()\n",
    "agrupado"
   ]
  },
  {
   "cell_type": "code",
   "execution_count": 12,
   "id": "c22b9e47",
   "metadata": {},
   "outputs": [
    {
     "data": {
      "text/plain": [
       "Situação\n",
       "EM ABERTO     3\n",
       "FECHADO      44\n",
       "dtype: int64"
      ]
     },
     "execution_count": 12,
     "metadata": {},
     "output_type": "execute_result"
    }
   ],
   "source": [
    "# Situação\n",
    "agrupado = dados.groupby(['Situação']).size()\n",
    "agrupado"
   ]
  },
  {
   "cell_type": "code",
   "execution_count": 13,
   "id": "792605ff",
   "metadata": {},
   "outputs": [
    {
     "data": {
      "text/plain": [
       "Responsável\n",
       "Gabriel    18\n",
       "Victor     29\n",
       "dtype: int64"
      ]
     },
     "execution_count": 13,
     "metadata": {},
     "output_type": "execute_result"
    }
   ],
   "source": [
    "# Responsável\n",
    "agrupado = dados.groupby(['Responsável']).size()\n",
    "agrupado"
   ]
  },
  {
   "cell_type": "markdown",
   "id": "26d3d124",
   "metadata": {},
   "source": [
    "# Key Perfomance Indicator (KPI)"
   ]
  },
  {
   "cell_type": "markdown",
   "id": "e3c839c3",
   "metadata": {},
   "source": [
    "## Origem dos Leads\n",
    "Quais são os canais mais utilizados pelos Leads para encontrarem a loja?"
   ]
  },
  {
   "cell_type": "code",
   "execution_count": 71,
   "id": "693b1bf1",
   "metadata": {},
   "outputs": [
    {
     "data": {
      "text/plain": [
       "Text(0, 0.5, 'Origem')"
      ]
     },
     "execution_count": 71,
     "metadata": {},
     "output_type": "execute_result"
    },
    {
     "data": {
      "image/png": "[encoded data removed]",
      "text/plain": [
       "<Figure size 432x288 with 1 Axes>"
      ]
     },
     "metadata": {
      "needs_background": "light"
     },
     "output_type": "display_data"
    }
   ],
   "source": [
    "agrupado = dados.groupby(['Origem']).size()\n",
    "agrupado = agrupado.sort_values()\n",
    "agrupado.plot.bar(color=['green', 'red', 'blue', 'orange'])\n",
    "plt.title('Quantidade de Leads por Origem');\n",
    "plt.xlabel('Quantidade')\n",
    "plt.ylabel('Origem')"
   ]
  },
  {
   "cell_type": "markdown",
   "id": "d584cb82",
   "metadata": {},
   "source": [
    "#### Conclusão\n",
    "\n",
    "Devido a grande quantidade de Leads de origem \"Outros\", podemos observar o seguinte:\n",
    "\n",
    "- Existem um grande volume de Leads em possíveis canais não mapeados.\n",
    "- E/Ou, essa informação não está sendo obtida como deveria no momento da atendimento.\n",
    "    \n",
    "Com a falta de clareza nas informações, podemos concluir que os novos esforços deveriam ser direcionados à identificação desses canais e na realização de treinamentos à equipe de vendas para reforçar a importância da origem dos clientes para a tomada de decisões."
   ]
  },
  {
   "cell_type": "markdown",
   "id": "2c3d43fb",
   "metadata": {},
   "source": [
    "## Conversão por Origem\n",
    "Quais canais possuem uma maior taxa de conversão?"
   ]
  },
  {
   "cell_type": "code",
   "execution_count": 87,
   "id": "ddbebe85",
   "metadata": {},
   "outputs": [
    {
     "data": {
      "text/plain": [
       "Text(0, 0.5, 'Origem')"
      ]
     },
     "execution_count": 87,
     "metadata": {},
     "output_type": "execute_result"
    },
    {
     "data": {
      "image/png": "[encoded data removed]",
      "text/plain": [
       "<Figure size 432x288 with 1 Axes>"
      ]
     },
     "metadata": {
      "needs_background": "light"
     },
     "output_type": "display_data"
    }
   ],
   "source": [
    "agrupado = ((dados.Situação == \"FECHADO\").sum() and dados.groupby(['Origem']).size())/dados.ID.count()\n",
    "#Taxa de conversão por origem (y)\n",
    "agrupado = agrupado.sort_values()\n",
    "#Ordenando os dados em crescente\n",
    "agrupado = agrupado.plot.bar(color=['green', 'red', 'blue', 'orange'])\n",
    "#Gerando o gráfico e alterando as cores\n",
    "agrupado.yaxis.set_major_formatter(FuncFormatter(lambda y, _: '{:.0%}'.format(y)))\n",
    "#Convertendo o formato do eixo \"y\" para percentual\n",
    "plt.title('Quantidade de Leads por Origem')\n",
    "plt.xlabel('Quantidade')\n",
    "plt.ylabel('Origem')"
   ]
  },
  {
   "cell_type": "markdown",
   "id": "f21a88c5",
   "metadata": {},
   "source": [
    "## Temperatura dos Leads\n",
    "Qual o nível de interesse dos Leads pelos serviços prestados?\n",
    "- Frio: Pouco Interessado\n",
    "- Morno: Interesse Médio\n",
    "- Quente: Muito Interessado"
   ]
  },
  {
   "cell_type": "code",
   "execution_count": 45,
   "id": "6df1a2b0",
   "metadata": {},
   "outputs": [
    {
     "data": {
      "text/plain": [
       "Text(0, 0.5, 'Quantidade')"
      ]
     },
     "execution_count": 45,
     "metadata": {},
     "output_type": "execute_result"
    },
    {
     "data": {
      "image/png": "[encoded data removed]",
      "text/plain": [
       "<Figure size 432x288 with 1 Axes>"
      ]
     },
     "metadata": {
      "needs_background": "light"
     },
     "output_type": "display_data"
    }
   ],
   "source": [
    "agrupado = dados.groupby(['Temperatura']).size()\n",
    "agrupado.plot.bar(ylabel = 'Quantidade', color = ['red'])\n",
    "plt.title('Quantidade de Leads por Temperatura');\n",
    "plt.xlabel('Temperatura')\n",
    "plt.ylabel('Quantidade')"
   ]
  },
  {
   "cell_type": "markdown",
   "id": "caa948f7",
   "metadata": {},
   "source": [
    "Todos os Leads foram classificados como \"Quentes\". Isso pode ser positivo a partir de uma boa taxa de conversão, ou, novamente os vendedores não estão conseguindo obter e registrar as informações como deveriam."
   ]
  },
  {
   "cell_type": "markdown",
   "id": "caf7a546",
   "metadata": {},
   "source": [
    "## Vendas\n",
    "Quantidade de Leads que fecharam ou não algum tipo de serviço."
   ]
  },
  {
   "cell_type": "code",
   "execution_count": 44,
   "id": "b8a16468",
   "metadata": {},
   "outputs": [
    {
     "data": {
      "text/plain": [
       "Text(0, 0.5, 'Quantidade')"
      ]
     },
     "execution_count": 44,
     "metadata": {},
     "output_type": "execute_result"
    },
    {
     "data": {
      "image/png": "[encoded data removed]",
      "text/plain": [
       "<Figure size 432x288 with 1 Axes>"
      ]
     },
     "metadata": {
      "needs_background": "light"
     },
     "output_type": "display_data"
    }
   ],
   "source": [
    "agrupado = dados.groupby(['Situação']).size()\n",
    "agrupado.plot.bar(ylabel = 'Quantidade', color=['blue', 'green'])\n",
    "plt.title('Situação dos Atendimentos');\n",
    "plt.xlabel('Situação')\n",
    "plt.ylabel('Quantidade')"
   ]
  },
  {
   "cell_type": "markdown",
   "id": "cb5cb184",
   "metadata": {},
   "source": [
    "Existe um volume muito maior de clientes que adquiriram algum tipo de serviço em relação a quantidade de atendimentos, isso pode representar uma ótima taxa de conversão."
   ]
  },
  {
   "cell_type": "markdown",
   "id": "13c87dd5",
   "metadata": {},
   "source": [
    "## Taxa de Conversão\n",
    "Percentual de fechamentos sobre a quantidade de atendimentos."
   ]
  },
  {
   "cell_type": "code",
   "execution_count": 37,
   "id": "e890a5d2",
   "metadata": {},
   "outputs": [
    {
     "data": {
      "text/plain": [
       "' 93.62%'"
      ]
     },
     "execution_count": 37,
     "metadata": {},
     "output_type": "execute_result"
    }
   ],
   "source": [
    "taxa = ((dados.Situação == \"FECHADO\").sum())/(dados.ID.count())\n",
    "\n",
    "# Conversão para Percentual\n",
    "\"{: .2%}\". format(taxa)"
   ]
  },
  {
   "cell_type": "markdown",
   "id": "b2575681",
   "metadata": {},
   "source": [
    "Confirmando o resultado do gráfico anterior, podemos ter o entendimento que a empresa está conseguindo fechar com quase todos os seus clientes, realmente uma ótima taxa de conversão."
   ]
  }
 ],
 "metadata": {
  "kernelspec": {
   "display_name": "Python 3 (ipykernel)",
   "language": "python",
   "name": "python3"
  },
  "language_info": {
   "codemirror_mode": {
    "name": "ipython",
    "version": 3
   },
   "file_extension": ".py",
   "mimetype": "text/x-python",
   "name": "python",
   "nbconvert_exporter": "python",
   "pygments_lexer": "ipython3",
   "version": "3.9.12"
  }
 },
 "nbformat": 4,
 "nbformat_minor": 5
}
