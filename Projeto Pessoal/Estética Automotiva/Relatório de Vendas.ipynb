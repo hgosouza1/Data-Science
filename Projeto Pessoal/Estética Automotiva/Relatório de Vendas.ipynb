{
 "cells": [
  {
   "cell_type": "markdown",
   "id": "48a4ce7a",
   "metadata": {},
   "source": [
    "## Importando as Bibliotecas"
   ]
  },
  {
   "cell_type": "code",
   "execution_count": 58,
   "id": "637e1b02",
   "metadata": {},
   "outputs": [],
   "source": [
    "import pandas as pd\n",
    "import seaborn as srn\n",
    "import matplotlib.pyplot as plt"
   ]
  },
  {
   "cell_type": "markdown",
   "id": "d476a9c1",
   "metadata": {},
   "source": [
    "## Importando os Dados"
   ]
  },
  {
   "cell_type": "code",
   "execution_count": 32,
   "id": "b63a216e",
   "metadata": {},
   "outputs": [
    {
     "data": {
      "text/html": [
       "<div>\n",
       "<style scoped>\n",
       "    .dataframe tbody tr th:only-of-type {\n",
       "        vertical-align: middle;\n",
       "    }\n",
       "\n",
       "    .dataframe tbody tr th {\n",
       "        vertical-align: top;\n",
       "    }\n",
       "\n",
       "    .dataframe thead th {\n",
       "        text-align: right;\n",
       "    }\n",
       "</style>\n",
       "<table border=\"1\" class=\"dataframe\">\n",
       "  <thead>\n",
       "    <tr style=\"text-align: right;\">\n",
       "      <th></th>\n",
       "      <th>ID</th>\n",
       "      <th>Nome</th>\n",
       "      <th>Responsável</th>\n",
       "      <th>Telefone</th>\n",
       "      <th>Origem</th>\n",
       "      <th>Temperatura</th>\n",
       "      <th>Situação</th>\n",
       "      <th>Observações</th>\n",
       "      <th>Data Atendimento</th>\n",
       "      <th>Data Fechamento</th>\n",
       "      <th>Data Referência Fechamento</th>\n",
       "      <th>Data Referência</th>\n",
       "    </tr>\n",
       "  </thead>\n",
       "  <tbody>\n",
       "    <tr>\n",
       "      <th>0</th>\n",
       "      <td>345zYB2RStaeNDSoFPrKCQ</td>\n",
       "      <td>Tintin</td>\n",
       "      <td>Victor</td>\n",
       "      <td>61986059992</td>\n",
       "      <td>Outros</td>\n",
       "      <td>Quente</td>\n",
       "      <td>FECHADO</td>\n",
       "      <td>Fechadura do porta malas com defeito ( fechar ...</td>\n",
       "      <td>2022-07-20</td>\n",
       "      <td>2022-07-20</td>\n",
       "      <td>2022-07-20</td>\n",
       "      <td>7.0</td>\n",
       "    </tr>\n",
       "    <tr>\n",
       "      <th>1</th>\n",
       "      <td>kodJrgZQQbOYocrI4wEXug</td>\n",
       "      <td>Victor Luiz</td>\n",
       "      <td>Victor</td>\n",
       "      <td>61984186111</td>\n",
       "      <td>Outros</td>\n",
       "      <td>Quente</td>\n",
       "      <td>FECHADO</td>\n",
       "      <td>Ter cuidado com os botões no painel ( descarre...</td>\n",
       "      <td>2022-07-20</td>\n",
       "      <td>2022-07-29</td>\n",
       "      <td>2022-07-29</td>\n",
       "      <td>7.0</td>\n",
       "    </tr>\n",
       "    <tr>\n",
       "      <th>2</th>\n",
       "      <td>9XlS0WWDTQ6xUnyp3EcXyg</td>\n",
       "      <td>Wesley</td>\n",
       "      <td>Victor</td>\n",
       "      <td>61986621718</td>\n",
       "      <td>Indicação</td>\n",
       "      <td>Quente</td>\n",
       "      <td>FECHADO</td>\n",
       "      <td>40,00</td>\n",
       "      <td>2022-07-21</td>\n",
       "      <td>2022-07-21</td>\n",
       "      <td>2022-07-21</td>\n",
       "      <td>7.0</td>\n",
       "    </tr>\n",
       "    <tr>\n",
       "      <th>3</th>\n",
       "      <td>a-ihIurH5Q9ipdAPzY3AeBw</td>\n",
       "      <td>Diogo</td>\n",
       "      <td>Victor</td>\n",
       "      <td>61982010861</td>\n",
       "      <td>Outros</td>\n",
       "      <td>Quente</td>\n",
       "      <td>FECHADO</td>\n",
       "      <td>NaN</td>\n",
       "      <td>2022-07-21</td>\n",
       "      <td>2022-07-21</td>\n",
       "      <td>2022-07-21</td>\n",
       "      <td>7.0</td>\n",
       "    </tr>\n",
       "    <tr>\n",
       "      <th>4</th>\n",
       "      <td>EnbNzP.8Qs-K3r-gQI3IOQ</td>\n",
       "      <td>Rubem Borges</td>\n",
       "      <td>Victor</td>\n",
       "      <td>61995096911</td>\n",
       "      <td>Outros</td>\n",
       "      <td>Quente</td>\n",
       "      <td>FECHADO</td>\n",
       "      <td>Serviço de permuta</td>\n",
       "      <td>2022-07-21</td>\n",
       "      <td>2022-07-21</td>\n",
       "      <td>2022-07-21</td>\n",
       "      <td>7.0</td>\n",
       "    </tr>\n",
       "  </tbody>\n",
       "</table>\n",
       "</div>"
      ],
      "text/plain": [
       "                        ID           Nome Responsável     Telefone     Origem  \\\n",
       "0   345zYB2RStaeNDSoFPrKCQ        Tintin       Victor  61986059992     Outros   \n",
       "1   kodJrgZQQbOYocrI4wEXug   Victor Luiz       Victor  61984186111     Outros   \n",
       "2   9XlS0WWDTQ6xUnyp3EcXyg         Wesley      Victor  61986621718  Indicação   \n",
       "3  a-ihIurH5Q9ipdAPzY3AeBw         Diogo       Victor  61982010861     Outros   \n",
       "4   EnbNzP.8Qs-K3r-gQI3IOQ  Rubem Borges       Victor  61995096911     Outros   \n",
       "\n",
       "  Temperatura Situação                                        Observações  \\\n",
       "0      Quente  FECHADO  Fechadura do porta malas com defeito ( fechar ...   \n",
       "1      Quente  FECHADO  Ter cuidado com os botões no painel ( descarre...   \n",
       "2      Quente  FECHADO                                              40,00   \n",
       "3      Quente  FECHADO                                                NaN   \n",
       "4      Quente  FECHADO                                Serviço de permuta    \n",
       "\n",
       "  Data Atendimento Data Fechamento Data Referência Fechamento  Data Referência  \n",
       "0       2022-07-20      2022-07-20                 2022-07-20              7.0  \n",
       "1       2022-07-20      2022-07-29                 2022-07-29              7.0  \n",
       "2       2022-07-21      2022-07-21                 2022-07-21              7.0  \n",
       "3       2022-07-21      2022-07-21                 2022-07-21              7.0  \n",
       "4       2022-07-21      2022-07-21                 2022-07-21              7.0  "
      ]
     },
     "execution_count": 32,
     "metadata": {},
     "output_type": "execute_result"
    }
   ],
   "source": [
    "dados = dados = pd.read_csv(\"TR Estética Automotiva - Cliente.csv\", \n",
    "          sep = \",\", \n",
    "          parse_dates = [\"Data Atendimento\", \"Data Fechamento\", \"Data Referência Fechamento\"], \n",
    "          dayfirst = False,\n",
    "          )\n",
    "\n",
    "#Visulizando\n",
    "dados.head()"
   ]
  },
  {
   "cell_type": "markdown",
   "id": "1848744e",
   "metadata": {},
   "source": [
    "## Excluindo Linhas Nulas"
   ]
  },
  {
   "cell_type": "code",
   "execution_count": 12,
   "id": "bb24e411",
   "metadata": {},
   "outputs": [],
   "source": [
    "dados.dropna(how='all')"
   ]
  },
  {
   "cell_type": "markdown",
   "id": "d6f2a6fc",
   "metadata": {},
   "source": [
    "# Tamanho dos Dados"
   ]
  },
  {
   "cell_type": "code",
   "execution_count": 14,
   "id": "a79368aa",
   "metadata": {},
   "outputs": [
    {
     "data": {
      "text/plain": [
       "(47, 12)"
      ]
     },
     "execution_count": 14,
     "metadata": {},
     "output_type": "execute_result"
    }
   ],
   "source": [
    "dados.shape\n",
    "# Nº de Linhas e Colunas"
   ]
  },
  {
   "cell_type": "markdown",
   "id": "afca88a1",
   "metadata": {},
   "source": [
    "## Explorando os Dados"
   ]
  },
  {
   "cell_type": "code",
   "execution_count": 5,
   "id": "62b3c855",
   "metadata": {},
   "outputs": [
    {
     "data": {
      "text/plain": [
       "ID                             object\n",
       "Nome                           object\n",
       "Responsável                    object\n",
       "Telefone                       object\n",
       "Origem                         object\n",
       "Temperatura                    object\n",
       "Situação                       object\n",
       "Observações                    object\n",
       "Data Atendimento               object\n",
       "Data Fechamento                object\n",
       "Data Referência Fechamento     object\n",
       "Data Referência               float64\n",
       "dtype: object"
      ]
     },
     "execution_count": 5,
     "metadata": {},
     "output_type": "execute_result"
    }
   ],
   "source": [
    "dados.dtypes\n",
    "# Tipo de Dados"
   ]
  },
  {
   "cell_type": "markdown",
   "id": "ee66b337",
   "metadata": {},
   "source": [
    "## Dados Categóricos"
   ]
  },
  {
   "cell_type": "code",
   "execution_count": 6,
   "id": "7d19a6d9",
   "metadata": {},
   "outputs": [
    {
     "data": {
      "text/plain": [
       "Origem\n",
       "Indicação     11\n",
       "Instagram      1\n",
       "Outros        29\n",
       "Recorrente     6\n",
       "dtype: int64"
      ]
     },
     "execution_count": 6,
     "metadata": {},
     "output_type": "execute_result"
    }
   ],
   "source": [
    "# Origem\n",
    "agrupado = dados.groupby(['Origem']).size()\n",
    "agrupado"
   ]
  },
  {
   "cell_type": "code",
   "execution_count": 7,
   "id": "6df1a2b0",
   "metadata": {},
   "outputs": [
    {
     "data": {
      "text/plain": [
       "Temperatura\n",
       "Quente    47\n",
       "dtype: int64"
      ]
     },
     "execution_count": 7,
     "metadata": {},
     "output_type": "execute_result"
    }
   ],
   "source": [
    "# Temperatura\n",
    "agrupado = dados.groupby(['Temperatura']).size()\n",
    "agrupado"
   ]
  },
  {
   "cell_type": "code",
   "execution_count": 8,
   "id": "b8a16468",
   "metadata": {},
   "outputs": [
    {
     "data": {
      "text/plain": [
       "Situação\n",
       "EM ABERTO     3\n",
       "FECHADO      44\n",
       "dtype: int64"
      ]
     },
     "execution_count": 8,
     "metadata": {},
     "output_type": "execute_result"
    }
   ],
   "source": [
    "# Situação\n",
    "agrupado = dados.groupby(['Situação']).size()\n",
    "agrupado"
   ]
  },
  {
   "cell_type": "markdown",
   "id": "f647cb99",
   "metadata": {},
   "source": [
    "## Gráfico de Série Temporal"
   ]
  },
  {
   "cell_type": "code",
   "execution_count": null,
   "id": "af0a0833",
   "metadata": {},
   "outputs": [],
   "source": []
  }
 ],
 "metadata": {
  "kernelspec": {
   "display_name": "Python 3 (ipykernel)",
   "language": "python",
   "name": "python3"
  },
  "language_info": {
   "codemirror_mode": {
    "name": "ipython",
    "version": 3
   },
   "file_extension": ".py",
   "mimetype": "text/x-python",
   "name": "python",
   "nbconvert_exporter": "python",
   "pygments_lexer": "ipython3",
   "version": "3.9.12"
  }
 },
 "nbformat": 4,
 "nbformat_minor": 5
}
