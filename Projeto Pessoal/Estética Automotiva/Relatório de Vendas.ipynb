{
 "cells": [
  {
   "cell_type": "markdown",
   "id": "77ab0c11",
   "metadata": {},
   "source": [
    "## Importando as Bibliotecas"
   ]
  },
  {
   "cell_type": "code",
   "execution_count": 1,
   "id": "3618a4f4",
   "metadata": {},
   "outputs": [],
   "source": [
    "import pandas as pd\n",
    "import seaborn as srn"
   ]
  },
  {
   "cell_type": "markdown",
   "id": "7182338c",
   "metadata": {},
   "source": [
    "## Importando os Dados"
   ]
  },
  {
   "cell_type": "code",
   "execution_count": 2,
   "id": "3aa27e86",
   "metadata": {},
   "outputs": [
    {
     "data": {
      "text/html": [
       "<div>\n",
       "<style scoped>\n",
       "    .dataframe tbody tr th:only-of-type {\n",
       "        vertical-align: middle;\n",
       "    }\n",
       "\n",
       "    .dataframe tbody tr th {\n",
       "        vertical-align: top;\n",
       "    }\n",
       "\n",
       "    .dataframe thead th {\n",
       "        text-align: right;\n",
       "    }\n",
       "</style>\n",
       "<table border=\"1\" class=\"dataframe\">\n",
       "  <thead>\n",
       "    <tr style=\"text-align: right;\">\n",
       "      <th></th>\n",
       "      <th>ID</th>\n",
       "      <th>Nome</th>\n",
       "      <th>Responsável</th>\n",
       "      <th>Telefone</th>\n",
       "      <th>Origem</th>\n",
       "      <th>Temperatura</th>\n",
       "      <th>Situação</th>\n",
       "      <th>Observações</th>\n",
       "      <th>Data Atendimento</th>\n",
       "      <th>Data Fechamento</th>\n",
       "      <th>Data Referência Fechamento</th>\n",
       "      <th>Data Referência</th>\n",
       "    </tr>\n",
       "  </thead>\n",
       "  <tbody>\n",
       "    <tr>\n",
       "      <th>0</th>\n",
       "      <td>345zYB2RStaeNDSoFPrKCQ</td>\n",
       "      <td>Tintin</td>\n",
       "      <td>Victor</td>\n",
       "      <td>61986059992</td>\n",
       "      <td>Outros</td>\n",
       "      <td>Quente</td>\n",
       "      <td>FECHADO</td>\n",
       "      <td>Fechadura do porta malas com defeito ( fechar ...</td>\n",
       "      <td>07/20/2022</td>\n",
       "      <td>07/20/2022</td>\n",
       "      <td>07/20/2022</td>\n",
       "      <td>7.0</td>\n",
       "    </tr>\n",
       "    <tr>\n",
       "      <th>1</th>\n",
       "      <td>kodJrgZQQbOYocrI4wEXug</td>\n",
       "      <td>Victor Luiz</td>\n",
       "      <td>Victor</td>\n",
       "      <td>61984186111</td>\n",
       "      <td>Outros</td>\n",
       "      <td>Quente</td>\n",
       "      <td>FECHADO</td>\n",
       "      <td>Ter cuidado com os botões no painel ( descarre...</td>\n",
       "      <td>07/20/2022</td>\n",
       "      <td>07/29/2022</td>\n",
       "      <td>07/29/2022</td>\n",
       "      <td>7.0</td>\n",
       "    </tr>\n",
       "    <tr>\n",
       "      <th>2</th>\n",
       "      <td>9XlS0WWDTQ6xUnyp3EcXyg</td>\n",
       "      <td>Wesley</td>\n",
       "      <td>Victor</td>\n",
       "      <td>61986621718</td>\n",
       "      <td>Indicação</td>\n",
       "      <td>Quente</td>\n",
       "      <td>FECHADO</td>\n",
       "      <td>40,00</td>\n",
       "      <td>07/21/2022</td>\n",
       "      <td>07/21/2022</td>\n",
       "      <td>07/21/2022</td>\n",
       "      <td>7.0</td>\n",
       "    </tr>\n",
       "    <tr>\n",
       "      <th>3</th>\n",
       "      <td>a-ihIurH5Q9ipdAPzY3AeBw</td>\n",
       "      <td>Diogo</td>\n",
       "      <td>Victor</td>\n",
       "      <td>61982010861</td>\n",
       "      <td>Outros</td>\n",
       "      <td>Quente</td>\n",
       "      <td>FECHADO</td>\n",
       "      <td>NaN</td>\n",
       "      <td>07/21/2022</td>\n",
       "      <td>07/21/2022</td>\n",
       "      <td>07/21/2022</td>\n",
       "      <td>7.0</td>\n",
       "    </tr>\n",
       "    <tr>\n",
       "      <th>4</th>\n",
       "      <td>EnbNzP.8Qs-K3r-gQI3IOQ</td>\n",
       "      <td>Rubem Borges</td>\n",
       "      <td>Victor</td>\n",
       "      <td>61995096911</td>\n",
       "      <td>Outros</td>\n",
       "      <td>Quente</td>\n",
       "      <td>FECHADO</td>\n",
       "      <td>Serviço de permuta</td>\n",
       "      <td>07/21/2022</td>\n",
       "      <td>07/21/2022</td>\n",
       "      <td>07/21/2022</td>\n",
       "      <td>7.0</td>\n",
       "    </tr>\n",
       "    <tr>\n",
       "      <th>5</th>\n",
       "      <td>NaN</td>\n",
       "      <td>NaN</td>\n",
       "      <td>NaN</td>\n",
       "      <td>NaN</td>\n",
       "      <td>NaN</td>\n",
       "      <td>NaN</td>\n",
       "      <td>NaN</td>\n",
       "      <td>NaN</td>\n",
       "      <td>NaN</td>\n",
       "      <td>NaN</td>\n",
       "      <td>NaN</td>\n",
       "      <td>NaN</td>\n",
       "    </tr>\n",
       "    <tr>\n",
       "      <th>6</th>\n",
       "      <td>NaN</td>\n",
       "      <td>NaN</td>\n",
       "      <td>NaN</td>\n",
       "      <td>NaN</td>\n",
       "      <td>NaN</td>\n",
       "      <td>NaN</td>\n",
       "      <td>NaN</td>\n",
       "      <td>NaN</td>\n",
       "      <td>NaN</td>\n",
       "      <td>NaN</td>\n",
       "      <td>NaN</td>\n",
       "      <td>NaN</td>\n",
       "    </tr>\n",
       "    <tr>\n",
       "      <th>7</th>\n",
       "      <td>yUWRXO1iQaO.oiQOEyCQWw</td>\n",
       "      <td>Pedro</td>\n",
       "      <td>Victor</td>\n",
       "      <td>61981552129</td>\n",
       "      <td>Outros</td>\n",
       "      <td>Quente</td>\n",
       "      <td>FECHADO</td>\n",
       "      <td>Lavagem + tapete 100,00</td>\n",
       "      <td>07/22/2022</td>\n",
       "      <td>07/22/2022</td>\n",
       "      <td>07/22/2022</td>\n",
       "      <td>7.0</td>\n",
       "    </tr>\n",
       "    <tr>\n",
       "      <th>8</th>\n",
       "      <td>dVL7x3yrQPyfcX2pyl451Q</td>\n",
       "      <td>Jao Henrique</td>\n",
       "      <td>Victor</td>\n",
       "      <td>61991303962</td>\n",
       "      <td>Outros</td>\n",
       "      <td>Quente</td>\n",
       "      <td>FECHADO</td>\n",
       "      <td>NaN</td>\n",
       "      <td>07/22/2022</td>\n",
       "      <td>07/24/2022</td>\n",
       "      <td>07/24/2022</td>\n",
       "      <td>7.0</td>\n",
       "    </tr>\n",
       "    <tr>\n",
       "      <th>9</th>\n",
       "      <td>SBlcxQ.HQnCTuZ4oIlN7hw</td>\n",
       "      <td>Lucas Gabriel</td>\n",
       "      <td>Gabriel</td>\n",
       "      <td>61991886570</td>\n",
       "      <td>Outros</td>\n",
       "      <td>Quente</td>\n",
       "      <td>FECHADO</td>\n",
       "      <td>NaN</td>\n",
       "      <td>07/22/2022</td>\n",
       "      <td>07/22/2022</td>\n",
       "      <td>07/22/2022</td>\n",
       "      <td>7.0</td>\n",
       "    </tr>\n",
       "  </tbody>\n",
       "</table>\n",
       "</div>"
      ],
      "text/plain": [
       "                        ID            Nome Responsável     Telefone  \\\n",
       "0   345zYB2RStaeNDSoFPrKCQ         Tintin       Victor  61986059992   \n",
       "1   kodJrgZQQbOYocrI4wEXug    Victor Luiz       Victor  61984186111   \n",
       "2   9XlS0WWDTQ6xUnyp3EcXyg          Wesley      Victor  61986621718   \n",
       "3  a-ihIurH5Q9ipdAPzY3AeBw          Diogo       Victor  61982010861   \n",
       "4   EnbNzP.8Qs-K3r-gQI3IOQ   Rubem Borges       Victor  61995096911   \n",
       "5                      NaN             NaN         NaN          NaN   \n",
       "6                      NaN             NaN         NaN          NaN   \n",
       "7   yUWRXO1iQaO.oiQOEyCQWw          Pedro       Victor  61981552129   \n",
       "8   dVL7x3yrQPyfcX2pyl451Q   Jao Henrique       Victor  61991303962   \n",
       "9   SBlcxQ.HQnCTuZ4oIlN7hw  Lucas Gabriel      Gabriel  61991886570   \n",
       "\n",
       "      Origem Temperatura Situação  \\\n",
       "0     Outros      Quente  FECHADO   \n",
       "1     Outros      Quente  FECHADO   \n",
       "2  Indicação      Quente  FECHADO   \n",
       "3     Outros      Quente  FECHADO   \n",
       "4     Outros      Quente  FECHADO   \n",
       "5        NaN         NaN      NaN   \n",
       "6        NaN         NaN      NaN   \n",
       "7     Outros      Quente  FECHADO   \n",
       "8     Outros      Quente  FECHADO   \n",
       "9     Outros      Quente  FECHADO   \n",
       "\n",
       "                                         Observações Data Atendimento  \\\n",
       "0  Fechadura do porta malas com defeito ( fechar ...       07/20/2022   \n",
       "1  Ter cuidado com os botões no painel ( descarre...       07/20/2022   \n",
       "2                                              40,00       07/21/2022   \n",
       "3                                                NaN       07/21/2022   \n",
       "4                                Serviço de permuta        07/21/2022   \n",
       "5                                                NaN              NaN   \n",
       "6                                                NaN              NaN   \n",
       "7                            Lavagem + tapete 100,00       07/22/2022   \n",
       "8                                                NaN       07/22/2022   \n",
       "9                                                NaN       07/22/2022   \n",
       "\n",
       "  Data Fechamento Data Referência Fechamento  Data Referência  \n",
       "0      07/20/2022                 07/20/2022              7.0  \n",
       "1      07/29/2022                 07/29/2022              7.0  \n",
       "2      07/21/2022                 07/21/2022              7.0  \n",
       "3      07/21/2022                 07/21/2022              7.0  \n",
       "4      07/21/2022                 07/21/2022              7.0  \n",
       "5             NaN                        NaN              NaN  \n",
       "6             NaN                        NaN              NaN  \n",
       "7      07/22/2022                 07/22/2022              7.0  \n",
       "8      07/24/2022                 07/24/2022              7.0  \n",
       "9      07/22/2022                 07/22/2022              7.0  "
      ]
     },
     "execution_count": 2,
     "metadata": {},
     "output_type": "execute_result"
    }
   ],
   "source": [
    "dataset = dataset = pd.read_csv(\"TR Estética Automotiva - Cliente.csv\", sep=\",\")\n",
    "#Visulizando\n",
    "dataset.head(10)"
   ]
  },
  {
   "cell_type": "markdown",
   "id": "34930b90",
   "metadata": {},
   "source": [
    "## Excluindo Linhas Nulas"
   ]
  },
  {
   "cell_type": "code",
   "execution_count": 12,
   "id": "309842f8",
   "metadata": {},
   "outputs": [],
   "source": [
    "dados = dataset.dropna(how='all')"
   ]
  },
  {
   "cell_type": "markdown",
   "id": "209a7fbf",
   "metadata": {},
   "source": [
    "# Tamanho dos Dados"
   ]
  },
  {
   "cell_type": "code",
   "execution_count": 14,
   "id": "ae9e4fc4",
   "metadata": {},
   "outputs": [
    {
     "data": {
      "text/plain": [
       "(47, 12)"
      ]
     },
     "execution_count": 14,
     "metadata": {},
     "output_type": "execute_result"
    }
   ],
   "source": [
    "dados.shape\n",
    "# Nº de Linhas e Colunas"
   ]
  },
  {
   "cell_type": "markdown",
   "id": "7c140d4f",
   "metadata": {},
   "source": [
    "## Explorando os Dados"
   ]
  },
  {
   "cell_type": "code",
   "execution_count": 5,
   "id": "d50a2a0f",
   "metadata": {},
   "outputs": [
    {
     "data": {
      "text/plain": [
       "ID                             object\n",
       "Nome                           object\n",
       "Responsável                    object\n",
       "Telefone                       object\n",
       "Origem                         object\n",
       "Temperatura                    object\n",
       "Situação                       object\n",
       "Observações                    object\n",
       "Data Atendimento               object\n",
       "Data Fechamento                object\n",
       "Data Referência Fechamento     object\n",
       "Data Referência               float64\n",
       "dtype: object"
      ]
     },
     "execution_count": 5,
     "metadata": {},
     "output_type": "execute_result"
    }
   ],
   "source": [
    "dados.dtypes\n",
    "# Tipo de Dados"
   ]
  },
  {
   "cell_type": "markdown",
   "id": "3e281b0e",
   "metadata": {},
   "source": [
    "## Convertando as Colunas de Datas"
   ]
  },
  {
   "cell_type": "code",
   "execution_count": 9,
   "id": "5a2eb725",
   "metadata": {
    "collapsed": true
   },
   "outputs": [
    {
     "name": "stderr",
     "output_type": "stream",
     "text": [
      "/var/folders/9h/p9hsy1w53698jm139d2m5nq80000gn/T/ipykernel_76370/2519905602.py:1: SettingWithCopyWarning: \n",
      "A value is trying to be set on a copy of a slice from a DataFrame.\n",
      "Try using .loc[row_indexer,col_indexer] = value instead\n",
      "\n",
      "See the caveats in the documentation: https://pandas.pydata.org/pandas-docs/stable/user_guide/indexing.html#returning-a-view-versus-a-copy\n",
      "  dados['Data Atendimento'] = pd.to_datetime(dados['Data Atendimento'], format = '%m/%d/%Y')\n",
      "/var/folders/9h/p9hsy1w53698jm139d2m5nq80000gn/T/ipykernel_76370/2519905602.py:2: SettingWithCopyWarning: \n",
      "A value is trying to be set on a copy of a slice from a DataFrame.\n",
      "Try using .loc[row_indexer,col_indexer] = value instead\n",
      "\n",
      "See the caveats in the documentation: https://pandas.pydata.org/pandas-docs/stable/user_guide/indexing.html#returning-a-view-versus-a-copy\n",
      "  dados['Data Fechamento'] = pd.to_datetime(dados['Data Fechamento'], format = '%m/%d/%Y')\n",
      "/var/folders/9h/p9hsy1w53698jm139d2m5nq80000gn/T/ipykernel_76370/2519905602.py:3: SettingWithCopyWarning: \n",
      "A value is trying to be set on a copy of a slice from a DataFrame.\n",
      "Try using .loc[row_indexer,col_indexer] = value instead\n",
      "\n",
      "See the caveats in the documentation: https://pandas.pydata.org/pandas-docs/stable/user_guide/indexing.html#returning-a-view-versus-a-copy\n",
      "  dados['Data Referência Fechamento'] = pd.to_datetime(dados['Data Referência Fechamento'], format = '%m/%d/%Y')\n"
     ]
    }
   ],
   "source": [
    "dados['Data Atendimento'] = pd.to_datetime(dados['Data Atendimento'], format = '%m/%d/%Y')\n",
    "dados['Data Fechamento'] = pd.to_datetime(dados['Data Fechamento'], format = '%m/%d/%Y')\n",
    "dados['Data Referência Fechamento'] = pd.to_datetime(dados['Data Referência Fechamento'], format = '%m/%d/%Y')"
   ]
  },
  {
   "cell_type": "code",
   "execution_count": 10,
   "id": "c0959c1d",
   "metadata": {},
   "outputs": [
    {
     "data": {
      "text/plain": [
       "ID                                    object\n",
       "Nome                                  object\n",
       "Responsável                           object\n",
       "Telefone                              object\n",
       "Origem                                object\n",
       "Temperatura                           object\n",
       "Situação                              object\n",
       "Observações                           object\n",
       "Data Atendimento              datetime64[ns]\n",
       "Data Fechamento               datetime64[ns]\n",
       "Data Referência Fechamento    datetime64[ns]\n",
       "Data Referência                      float64\n",
       "dtype: object"
      ]
     },
     "execution_count": 10,
     "metadata": {},
     "output_type": "execute_result"
    }
   ],
   "source": [
    "# Visuliazando Novamente\n",
    "dados.dtypes"
   ]
  },
  {
   "cell_type": "markdown",
   "id": "a4ba55f8",
   "metadata": {},
   "source": [
    "## Dados Categóricos"
   ]
  },
  {
   "cell_type": "code",
   "execution_count": 6,
   "id": "4748298f",
   "metadata": {},
   "outputs": [
    {
     "data": {
      "text/plain": [
       "Origem\n",
       "Indicação     11\n",
       "Instagram      1\n",
       "Outros        29\n",
       "Recorrente     6\n",
       "dtype: int64"
      ]
     },
     "execution_count": 6,
     "metadata": {},
     "output_type": "execute_result"
    }
   ],
   "source": [
    "# Origem\n",
    "agrupado = dados.groupby(['Origem']).size()\n",
    "agrupado"
   ]
  },
  {
   "cell_type": "code",
   "execution_count": 7,
   "id": "454f5457",
   "metadata": {},
   "outputs": [
    {
     "data": {
      "text/plain": [
       "Temperatura\n",
       "Quente    47\n",
       "dtype: int64"
      ]
     },
     "execution_count": 7,
     "metadata": {},
     "output_type": "execute_result"
    }
   ],
   "source": [
    "# Temperatura\n",
    "agrupado = dados.groupby(['Temperatura']).size()\n",
    "agrupado"
   ]
  },
  {
   "cell_type": "code",
   "execution_count": 8,
   "id": "4e104046",
   "metadata": {},
   "outputs": [
    {
     "data": {
      "text/plain": [
       "Situação\n",
       "EM ABERTO     3\n",
       "FECHADO      44\n",
       "dtype: int64"
      ]
     },
     "execution_count": 8,
     "metadata": {},
     "output_type": "execute_result"
    }
   ],
   "source": [
    "# Situação\n",
    "agrupado = dados.groupby(['Situação']).size()\n",
    "agrupado"
   ]
  },
  {
   "cell_type": "markdown",
   "id": "3f100b53",
   "metadata": {},
   "source": [
    "## Resultados"
   ]
  },
  {
   "cell_type": "code",
   "execution_count": null,
   "id": "c56646d8",
   "metadata": {},
   "outputs": [],
   "source": []
  }
 ],
 "metadata": {
  "kernelspec": {
   "display_name": "Python 3 (ipykernel)",
   "language": "python",
   "name": "python3"
  },
  "language_info": {
   "codemirror_mode": {
    "name": "ipython",
    "version": 3
   },
   "file_extension": ".py",
   "mimetype": "text/x-python",
   "name": "python",
   "nbconvert_exporter": "python",
   "pygments_lexer": "ipython3",
   "version": "3.9.12"
  }
 },
 "nbformat": 4,
 "nbformat_minor": 5
}
