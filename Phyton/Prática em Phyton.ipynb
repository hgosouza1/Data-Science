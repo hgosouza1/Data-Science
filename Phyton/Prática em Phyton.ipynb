{
 "cells": [
  {
   "cell_type": "markdown",
   "metadata": {},
   "source": [
    "# 1"
   ]
  },
  {
   "cell_type": "markdown",
   "metadata": {},
   "source": [
    "## Faça um programa que tenha uma função chamada amplitude. A função deve receber uma lista e imprimir a amplitude."
   ]
  },
  {
   "cell_type": "code",
   "execution_count": null,
   "metadata": {},
   "outputs": [],
   "source": [
    "def amplitude(vet):\n",
    "    print(\"Amplitude:\", max(vet) - min(vet))\n",
    "\n",
    "vetor = [12,23,45,2,100]    \n",
    "amplitude(vetor)"
   ]
  },
  {
   "cell_type": "markdown",
   "metadata": {},
   "source": [
    "## Fazendo uma função que recebe uma string e imprime esta string na forma vertical"
   ]
  },
  {
   "cell_type": "code",
   "execution_count": null,
   "metadata": {},
   "outputs": [],
   "source": [
    "def imprime(texto):\n",
    "    for n in range(0, len(texto)):\n",
    "        print(texto[n])\n",
    "\n",
    "imprime(\"Cientista\")\n"
   ]
  },
  {
   "cell_type": "markdown",
   "metadata": {},
   "source": [
    "## Criando um programa que leia o peso de uma carga em números inteiros.\n",
    "## Se o peso for até 10 kg, o valor será de R$ 50,00.\n",
    "## Entre 11 e 20 kg, o valor será de R$ 80. \n",
    "## Se for maior que  20 o transporte não será aceito."
   ]
  },
  {
   "cell_type": "code",
   "execution_count": null,
   "metadata": {},
   "outputs": [],
   "source": [
    "peso = 10\n",
    "if peso <= 10:\n",
    "\tprint(\"Valor da carga é de R$ 50,00\")\n",
    "elif peso >= 11 and peso <=20:\n",
    "\tprint(\"Valor da carga é de R$ 80,00\")\n",
    "else:\n",
    "\tprint(\"O transporte não é aceito\")\n"
   ]
  }
 ],
 "metadata": {
  "kernelspec": {
   "display_name": "Python 3 (ipykernel)",
   "language": "python",
   "name": "python3"
  },
  "language_info": {
   "codemirror_mode": {
    "name": "ipython",
    "version": 3
   },
   "file_extension": ".py",
   "mimetype": "text/x-python",
   "name": "python",
   "nbconvert_exporter": "python",
   "pygments_lexer": "ipython3",
   "version": "3.9.12"
  }
 },
 "nbformat": 4,
 "nbformat_minor": 4
}
